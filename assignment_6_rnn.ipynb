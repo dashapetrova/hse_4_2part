{
  "nbformat": 4,
  "nbformat_minor": 0,
  "metadata": {
    "colab": {
      "name": "assignment_6_rnn.ipynb",
      "provenance": [],
      "collapsed_sections": []
    },
    "kernelspec": {
      "name": "python3",
      "display_name": "Python 3"
    },
    "widgets": {
      "application/vnd.jupyter.widget-state+json": {
        "2a5109fe59d2437dadc3c7ae80326103": {
          "model_module": "@jupyter-widgets/controls",
          "model_name": "HBoxModel",
          "state": {
            "_view_name": "HBoxView",
            "_dom_classes": [],
            "_model_name": "HBoxModel",
            "_view_module": "@jupyter-widgets/controls",
            "_model_module_version": "1.5.0",
            "_view_count": null,
            "_view_module_version": "1.5.0",
            "box_style": "",
            "layout": "IPY_MODEL_4296ad03e75a4455acf758613c717df2",
            "_model_module": "@jupyter-widgets/controls",
            "children": [
              "IPY_MODEL_14c20bf370a4453bb31535eca9b3ea9f",
              "IPY_MODEL_9ee27f59f8a54d588fbb21f790172136"
            ]
          }
        },
        "4296ad03e75a4455acf758613c717df2": {
          "model_module": "@jupyter-widgets/base",
          "model_name": "LayoutModel",
          "state": {
            "_view_name": "LayoutView",
            "grid_template_rows": null,
            "right": null,
            "justify_content": null,
            "_view_module": "@jupyter-widgets/base",
            "overflow": null,
            "_model_module_version": "1.2.0",
            "_view_count": null,
            "flex_flow": null,
            "width": null,
            "min_width": null,
            "border": null,
            "align_items": null,
            "bottom": null,
            "_model_module": "@jupyter-widgets/base",
            "top": null,
            "grid_column": null,
            "overflow_y": null,
            "overflow_x": null,
            "grid_auto_flow": null,
            "grid_area": null,
            "grid_template_columns": null,
            "flex": null,
            "_model_name": "LayoutModel",
            "justify_items": null,
            "grid_row": null,
            "max_height": null,
            "align_content": null,
            "visibility": null,
            "align_self": null,
            "height": null,
            "min_height": null,
            "padding": null,
            "grid_auto_rows": null,
            "grid_gap": null,
            "max_width": null,
            "order": null,
            "_view_module_version": "1.2.0",
            "grid_template_areas": null,
            "object_position": null,
            "object_fit": null,
            "grid_auto_columns": null,
            "margin": null,
            "display": null,
            "left": null
          }
        },
        "14c20bf370a4453bb31535eca9b3ea9f": {
          "model_module": "@jupyter-widgets/controls",
          "model_name": "IntProgressModel",
          "state": {
            "_view_name": "ProgressView",
            "style": "IPY_MODEL_8203d5b29aa54de7981c332d70c31ff9",
            "_dom_classes": [],
            "description": "epoch 0",
            "_model_name": "IntProgressModel",
            "bar_style": "success",
            "max": 1338,
            "_view_module": "@jupyter-widgets/controls",
            "_model_module_version": "1.5.0",
            "value": 1338,
            "_view_count": null,
            "_view_module_version": "1.5.0",
            "orientation": "horizontal",
            "min": 0,
            "description_tooltip": null,
            "_model_module": "@jupyter-widgets/controls",
            "layout": "IPY_MODEL_ad1a81ca3c3f4a719ed5732394a3c220"
          }
        },
        "9ee27f59f8a54d588fbb21f790172136": {
          "model_module": "@jupyter-widgets/controls",
          "model_name": "HTMLModel",
          "state": {
            "_view_name": "HTMLView",
            "style": "IPY_MODEL_72257da098dc4481b567f0c85009dcec",
            "_dom_classes": [],
            "description": "",
            "_model_name": "HTMLModel",
            "placeholder": "​",
            "_view_module": "@jupyter-widgets/controls",
            "_model_module_version": "1.5.0",
            "value": "100% 1338/1338 [24:10&lt;00:00,  1.06it/s, loss=4.66993]",
            "_view_count": null,
            "_view_module_version": "1.5.0",
            "description_tooltip": null,
            "_model_module": "@jupyter-widgets/controls",
            "layout": "IPY_MODEL_bb495531e5da4007b78097c110ea8ae0"
          }
        },
        "8203d5b29aa54de7981c332d70c31ff9": {
          "model_module": "@jupyter-widgets/controls",
          "model_name": "ProgressStyleModel",
          "state": {
            "_view_name": "StyleView",
            "_model_name": "ProgressStyleModel",
            "description_width": "initial",
            "_view_module": "@jupyter-widgets/base",
            "_model_module_version": "1.5.0",
            "_view_count": null,
            "_view_module_version": "1.2.0",
            "bar_color": null,
            "_model_module": "@jupyter-widgets/controls"
          }
        },
        "ad1a81ca3c3f4a719ed5732394a3c220": {
          "model_module": "@jupyter-widgets/base",
          "model_name": "LayoutModel",
          "state": {
            "_view_name": "LayoutView",
            "grid_template_rows": null,
            "right": null,
            "justify_content": null,
            "_view_module": "@jupyter-widgets/base",
            "overflow": null,
            "_model_module_version": "1.2.0",
            "_view_count": null,
            "flex_flow": null,
            "width": null,
            "min_width": null,
            "border": null,
            "align_items": null,
            "bottom": null,
            "_model_module": "@jupyter-widgets/base",
            "top": null,
            "grid_column": null,
            "overflow_y": null,
            "overflow_x": null,
            "grid_auto_flow": null,
            "grid_area": null,
            "grid_template_columns": null,
            "flex": null,
            "_model_name": "LayoutModel",
            "justify_items": null,
            "grid_row": null,
            "max_height": null,
            "align_content": null,
            "visibility": null,
            "align_self": null,
            "height": null,
            "min_height": null,
            "padding": null,
            "grid_auto_rows": null,
            "grid_gap": null,
            "max_width": null,
            "order": null,
            "_view_module_version": "1.2.0",
            "grid_template_areas": null,
            "object_position": null,
            "object_fit": null,
            "grid_auto_columns": null,
            "margin": null,
            "display": null,
            "left": null
          }
        },
        "72257da098dc4481b567f0c85009dcec": {
          "model_module": "@jupyter-widgets/controls",
          "model_name": "DescriptionStyleModel",
          "state": {
            "_view_name": "StyleView",
            "_model_name": "DescriptionStyleModel",
            "description_width": "",
            "_view_module": "@jupyter-widgets/base",
            "_model_module_version": "1.5.0",
            "_view_count": null,
            "_view_module_version": "1.2.0",
            "_model_module": "@jupyter-widgets/controls"
          }
        },
        "bb495531e5da4007b78097c110ea8ae0": {
          "model_module": "@jupyter-widgets/base",
          "model_name": "LayoutModel",
          "state": {
            "_view_name": "LayoutView",
            "grid_template_rows": null,
            "right": null,
            "justify_content": null,
            "_view_module": "@jupyter-widgets/base",
            "overflow": null,
            "_model_module_version": "1.2.0",
            "_view_count": null,
            "flex_flow": null,
            "width": null,
            "min_width": null,
            "border": null,
            "align_items": null,
            "bottom": null,
            "_model_module": "@jupyter-widgets/base",
            "top": null,
            "grid_column": null,
            "overflow_y": null,
            "overflow_x": null,
            "grid_auto_flow": null,
            "grid_area": null,
            "grid_template_columns": null,
            "flex": null,
            "_model_name": "LayoutModel",
            "justify_items": null,
            "grid_row": null,
            "max_height": null,
            "align_content": null,
            "visibility": null,
            "align_self": null,
            "height": null,
            "min_height": null,
            "padding": null,
            "grid_auto_rows": null,
            "grid_gap": null,
            "max_width": null,
            "order": null,
            "_view_module_version": "1.2.0",
            "grid_template_areas": null,
            "object_position": null,
            "object_fit": null,
            "grid_auto_columns": null,
            "margin": null,
            "display": null,
            "left": null
          }
        },
        "647b568414cb4961a49a5b83c00eb45a": {
          "model_module": "@jupyter-widgets/controls",
          "model_name": "HBoxModel",
          "state": {
            "_view_name": "HBoxView",
            "_dom_classes": [],
            "_model_name": "HBoxModel",
            "_view_module": "@jupyter-widgets/controls",
            "_model_module_version": "1.5.0",
            "_view_count": null,
            "_view_module_version": "1.5.0",
            "box_style": "",
            "layout": "IPY_MODEL_d417a561376f49e7a89e83b369b0fe2e",
            "_model_module": "@jupyter-widgets/controls",
            "children": [
              "IPY_MODEL_0289f973a43c440eb8b0ccd983cb407e",
              "IPY_MODEL_fa73af98b281472a86718dd1df31f46a"
            ]
          }
        },
        "d417a561376f49e7a89e83b369b0fe2e": {
          "model_module": "@jupyter-widgets/base",
          "model_name": "LayoutModel",
          "state": {
            "_view_name": "LayoutView",
            "grid_template_rows": null,
            "right": null,
            "justify_content": null,
            "_view_module": "@jupyter-widgets/base",
            "overflow": null,
            "_model_module_version": "1.2.0",
            "_view_count": null,
            "flex_flow": null,
            "width": null,
            "min_width": null,
            "border": null,
            "align_items": null,
            "bottom": null,
            "_model_module": "@jupyter-widgets/base",
            "top": null,
            "grid_column": null,
            "overflow_y": null,
            "overflow_x": null,
            "grid_auto_flow": null,
            "grid_area": null,
            "grid_template_columns": null,
            "flex": null,
            "_model_name": "LayoutModel",
            "justify_items": null,
            "grid_row": null,
            "max_height": null,
            "align_content": null,
            "visibility": null,
            "align_self": null,
            "height": null,
            "min_height": null,
            "padding": null,
            "grid_auto_rows": null,
            "grid_gap": null,
            "max_width": null,
            "order": null,
            "_view_module_version": "1.2.0",
            "grid_template_areas": null,
            "object_position": null,
            "object_fit": null,
            "grid_auto_columns": null,
            "margin": null,
            "display": null,
            "left": null
          }
        },
        "0289f973a43c440eb8b0ccd983cb407e": {
          "model_module": "@jupyter-widgets/controls",
          "model_name": "IntProgressModel",
          "state": {
            "_view_name": "ProgressView",
            "style": "IPY_MODEL_32427fee9a144072a3e714fa2f9ed4b8",
            "_dom_classes": [],
            "description": "epoch 1",
            "_model_name": "IntProgressModel",
            "bar_style": "success",
            "max": 1338,
            "_view_module": "@jupyter-widgets/controls",
            "_model_module_version": "1.5.0",
            "value": 1338,
            "_view_count": null,
            "_view_module_version": "1.5.0",
            "orientation": "horizontal",
            "min": 0,
            "description_tooltip": null,
            "_model_module": "@jupyter-widgets/controls",
            "layout": "IPY_MODEL_1b2e56be9e2b43bba243d213797961d3"
          }
        },
        "fa73af98b281472a86718dd1df31f46a": {
          "model_module": "@jupyter-widgets/controls",
          "model_name": "HTMLModel",
          "state": {
            "_view_name": "HTMLView",
            "style": "IPY_MODEL_53ec1843dd50424cb61d1fe3e268822f",
            "_dom_classes": [],
            "description": "",
            "_model_name": "HTMLModel",
            "placeholder": "​",
            "_view_module": "@jupyter-widgets/controls",
            "_model_module_version": "1.5.0",
            "value": "100% 1338/1338 [24:10&lt;00:00,  1.06it/s, loss=2.17410]",
            "_view_count": null,
            "_view_module_version": "1.5.0",
            "description_tooltip": null,
            "_model_module": "@jupyter-widgets/controls",
            "layout": "IPY_MODEL_322d9befae694924a657df8cb9672815"
          }
        },
        "32427fee9a144072a3e714fa2f9ed4b8": {
          "model_module": "@jupyter-widgets/controls",
          "model_name": "ProgressStyleModel",
          "state": {
            "_view_name": "StyleView",
            "_model_name": "ProgressStyleModel",
            "description_width": "initial",
            "_view_module": "@jupyter-widgets/base",
            "_model_module_version": "1.5.0",
            "_view_count": null,
            "_view_module_version": "1.2.0",
            "bar_color": null,
            "_model_module": "@jupyter-widgets/controls"
          }
        },
        "1b2e56be9e2b43bba243d213797961d3": {
          "model_module": "@jupyter-widgets/base",
          "model_name": "LayoutModel",
          "state": {
            "_view_name": "LayoutView",
            "grid_template_rows": null,
            "right": null,
            "justify_content": null,
            "_view_module": "@jupyter-widgets/base",
            "overflow": null,
            "_model_module_version": "1.2.0",
            "_view_count": null,
            "flex_flow": null,
            "width": null,
            "min_width": null,
            "border": null,
            "align_items": null,
            "bottom": null,
            "_model_module": "@jupyter-widgets/base",
            "top": null,
            "grid_column": null,
            "overflow_y": null,
            "overflow_x": null,
            "grid_auto_flow": null,
            "grid_area": null,
            "grid_template_columns": null,
            "flex": null,
            "_model_name": "LayoutModel",
            "justify_items": null,
            "grid_row": null,
            "max_height": null,
            "align_content": null,
            "visibility": null,
            "align_self": null,
            "height": null,
            "min_height": null,
            "padding": null,
            "grid_auto_rows": null,
            "grid_gap": null,
            "max_width": null,
            "order": null,
            "_view_module_version": "1.2.0",
            "grid_template_areas": null,
            "object_position": null,
            "object_fit": null,
            "grid_auto_columns": null,
            "margin": null,
            "display": null,
            "left": null
          }
        },
        "53ec1843dd50424cb61d1fe3e268822f": {
          "model_module": "@jupyter-widgets/controls",
          "model_name": "DescriptionStyleModel",
          "state": {
            "_view_name": "StyleView",
            "_model_name": "DescriptionStyleModel",
            "description_width": "",
            "_view_module": "@jupyter-widgets/base",
            "_model_module_version": "1.5.0",
            "_view_count": null,
            "_view_module_version": "1.2.0",
            "_model_module": "@jupyter-widgets/controls"
          }
        },
        "322d9befae694924a657df8cb9672815": {
          "model_module": "@jupyter-widgets/base",
          "model_name": "LayoutModel",
          "state": {
            "_view_name": "LayoutView",
            "grid_template_rows": null,
            "right": null,
            "justify_content": null,
            "_view_module": "@jupyter-widgets/base",
            "overflow": null,
            "_model_module_version": "1.2.0",
            "_view_count": null,
            "flex_flow": null,
            "width": null,
            "min_width": null,
            "border": null,
            "align_items": null,
            "bottom": null,
            "_model_module": "@jupyter-widgets/base",
            "top": null,
            "grid_column": null,
            "overflow_y": null,
            "overflow_x": null,
            "grid_auto_flow": null,
            "grid_area": null,
            "grid_template_columns": null,
            "flex": null,
            "_model_name": "LayoutModel",
            "justify_items": null,
            "grid_row": null,
            "max_height": null,
            "align_content": null,
            "visibility": null,
            "align_self": null,
            "height": null,
            "min_height": null,
            "padding": null,
            "grid_auto_rows": null,
            "grid_gap": null,
            "max_width": null,
            "order": null,
            "_view_module_version": "1.2.0",
            "grid_template_areas": null,
            "object_position": null,
            "object_fit": null,
            "grid_auto_columns": null,
            "margin": null,
            "display": null,
            "left": null
          }
        },
        "8d4aeea55c06402d8d8980d6e0b3e413": {
          "model_module": "@jupyter-widgets/controls",
          "model_name": "HBoxModel",
          "state": {
            "_view_name": "HBoxView",
            "_dom_classes": [],
            "_model_name": "HBoxModel",
            "_view_module": "@jupyter-widgets/controls",
            "_model_module_version": "1.5.0",
            "_view_count": null,
            "_view_module_version": "1.5.0",
            "box_style": "",
            "layout": "IPY_MODEL_c9270ed6d33c4396b8cf7c193d10a231",
            "_model_module": "@jupyter-widgets/controls",
            "children": [
              "IPY_MODEL_26aae85fdb3f43f78fe0924bcec79660",
              "IPY_MODEL_e571c5f1df06421397b07f1a4a0a6089"
            ]
          }
        },
        "c9270ed6d33c4396b8cf7c193d10a231": {
          "model_module": "@jupyter-widgets/base",
          "model_name": "LayoutModel",
          "state": {
            "_view_name": "LayoutView",
            "grid_template_rows": null,
            "right": null,
            "justify_content": null,
            "_view_module": "@jupyter-widgets/base",
            "overflow": null,
            "_model_module_version": "1.2.0",
            "_view_count": null,
            "flex_flow": null,
            "width": null,
            "min_width": null,
            "border": null,
            "align_items": null,
            "bottom": null,
            "_model_module": "@jupyter-widgets/base",
            "top": null,
            "grid_column": null,
            "overflow_y": null,
            "overflow_x": null,
            "grid_auto_flow": null,
            "grid_area": null,
            "grid_template_columns": null,
            "flex": null,
            "_model_name": "LayoutModel",
            "justify_items": null,
            "grid_row": null,
            "max_height": null,
            "align_content": null,
            "visibility": null,
            "align_self": null,
            "height": null,
            "min_height": null,
            "padding": null,
            "grid_auto_rows": null,
            "grid_gap": null,
            "max_width": null,
            "order": null,
            "_view_module_version": "1.2.0",
            "grid_template_areas": null,
            "object_position": null,
            "object_fit": null,
            "grid_auto_columns": null,
            "margin": null,
            "display": null,
            "left": null
          }
        },
        "26aae85fdb3f43f78fe0924bcec79660": {
          "model_module": "@jupyter-widgets/controls",
          "model_name": "IntProgressModel",
          "state": {
            "_view_name": "ProgressView",
            "style": "IPY_MODEL_987c9c2ebe654c419484ae3faf97c13d",
            "_dom_classes": [],
            "description": "epoch 2",
            "_model_name": "IntProgressModel",
            "bar_style": "success",
            "max": 1338,
            "_view_module": "@jupyter-widgets/controls",
            "_model_module_version": "1.5.0",
            "value": 1338,
            "_view_count": null,
            "_view_module_version": "1.5.0",
            "orientation": "horizontal",
            "min": 0,
            "description_tooltip": null,
            "_model_module": "@jupyter-widgets/controls",
            "layout": "IPY_MODEL_622dd0158c57479284e5845d8d0ff9e2"
          }
        },
        "e571c5f1df06421397b07f1a4a0a6089": {
          "model_module": "@jupyter-widgets/controls",
          "model_name": "HTMLModel",
          "state": {
            "_view_name": "HTMLView",
            "style": "IPY_MODEL_4a90cfc57b3c40d3ba3d3a46ed6f3367",
            "_dom_classes": [],
            "description": "",
            "_model_name": "HTMLModel",
            "placeholder": "​",
            "_view_module": "@jupyter-widgets/controls",
            "_model_module_version": "1.5.0",
            "value": "100% 1338/1338 [24:01&lt;00:00,  1.10it/s, loss=1.03541]",
            "_view_count": null,
            "_view_module_version": "1.5.0",
            "description_tooltip": null,
            "_model_module": "@jupyter-widgets/controls",
            "layout": "IPY_MODEL_8a2896ce67b04aa6acd010a2bfaab9ff"
          }
        },
        "987c9c2ebe654c419484ae3faf97c13d": {
          "model_module": "@jupyter-widgets/controls",
          "model_name": "ProgressStyleModel",
          "state": {
            "_view_name": "StyleView",
            "_model_name": "ProgressStyleModel",
            "description_width": "initial",
            "_view_module": "@jupyter-widgets/base",
            "_model_module_version": "1.5.0",
            "_view_count": null,
            "_view_module_version": "1.2.0",
            "bar_color": null,
            "_model_module": "@jupyter-widgets/controls"
          }
        },
        "622dd0158c57479284e5845d8d0ff9e2": {
          "model_module": "@jupyter-widgets/base",
          "model_name": "LayoutModel",
          "state": {
            "_view_name": "LayoutView",
            "grid_template_rows": null,
            "right": null,
            "justify_content": null,
            "_view_module": "@jupyter-widgets/base",
            "overflow": null,
            "_model_module_version": "1.2.0",
            "_view_count": null,
            "flex_flow": null,
            "width": null,
            "min_width": null,
            "border": null,
            "align_items": null,
            "bottom": null,
            "_model_module": "@jupyter-widgets/base",
            "top": null,
            "grid_column": null,
            "overflow_y": null,
            "overflow_x": null,
            "grid_auto_flow": null,
            "grid_area": null,
            "grid_template_columns": null,
            "flex": null,
            "_model_name": "LayoutModel",
            "justify_items": null,
            "grid_row": null,
            "max_height": null,
            "align_content": null,
            "visibility": null,
            "align_self": null,
            "height": null,
            "min_height": null,
            "padding": null,
            "grid_auto_rows": null,
            "grid_gap": null,
            "max_width": null,
            "order": null,
            "_view_module_version": "1.2.0",
            "grid_template_areas": null,
            "object_position": null,
            "object_fit": null,
            "grid_auto_columns": null,
            "margin": null,
            "display": null,
            "left": null
          }
        },
        "4a90cfc57b3c40d3ba3d3a46ed6f3367": {
          "model_module": "@jupyter-widgets/controls",
          "model_name": "DescriptionStyleModel",
          "state": {
            "_view_name": "StyleView",
            "_model_name": "DescriptionStyleModel",
            "description_width": "",
            "_view_module": "@jupyter-widgets/base",
            "_model_module_version": "1.5.0",
            "_view_count": null,
            "_view_module_version": "1.2.0",
            "_model_module": "@jupyter-widgets/controls"
          }
        },
        "8a2896ce67b04aa6acd010a2bfaab9ff": {
          "model_module": "@jupyter-widgets/base",
          "model_name": "LayoutModel",
          "state": {
            "_view_name": "LayoutView",
            "grid_template_rows": null,
            "right": null,
            "justify_content": null,
            "_view_module": "@jupyter-widgets/base",
            "overflow": null,
            "_model_module_version": "1.2.0",
            "_view_count": null,
            "flex_flow": null,
            "width": null,
            "min_width": null,
            "border": null,
            "align_items": null,
            "bottom": null,
            "_model_module": "@jupyter-widgets/base",
            "top": null,
            "grid_column": null,
            "overflow_y": null,
            "overflow_x": null,
            "grid_auto_flow": null,
            "grid_area": null,
            "grid_template_columns": null,
            "flex": null,
            "_model_name": "LayoutModel",
            "justify_items": null,
            "grid_row": null,
            "max_height": null,
            "align_content": null,
            "visibility": null,
            "align_self": null,
            "height": null,
            "min_height": null,
            "padding": null,
            "grid_auto_rows": null,
            "grid_gap": null,
            "max_width": null,
            "order": null,
            "_view_module_version": "1.2.0",
            "grid_template_areas": null,
            "object_position": null,
            "object_fit": null,
            "grid_auto_columns": null,
            "margin": null,
            "display": null,
            "left": null
          }
        },
        "b23ceec1a2eb41cb9c7dcf97cdc142f0": {
          "model_module": "@jupyter-widgets/controls",
          "model_name": "HBoxModel",
          "state": {
            "_view_name": "HBoxView",
            "_dom_classes": [],
            "_model_name": "HBoxModel",
            "_view_module": "@jupyter-widgets/controls",
            "_model_module_version": "1.5.0",
            "_view_count": null,
            "_view_module_version": "1.5.0",
            "box_style": "",
            "layout": "IPY_MODEL_8905e680b05643b9bfd79ec6f8938a8f",
            "_model_module": "@jupyter-widgets/controls",
            "children": [
              "IPY_MODEL_3faacb82285741b1b622cbb1f1153bc8",
              "IPY_MODEL_42df5449fc7a42899ca5febf3df7b3a4"
            ]
          }
        },
        "8905e680b05643b9bfd79ec6f8938a8f": {
          "model_module": "@jupyter-widgets/base",
          "model_name": "LayoutModel",
          "state": {
            "_view_name": "LayoutView",
            "grid_template_rows": null,
            "right": null,
            "justify_content": null,
            "_view_module": "@jupyter-widgets/base",
            "overflow": null,
            "_model_module_version": "1.2.0",
            "_view_count": null,
            "flex_flow": null,
            "width": null,
            "min_width": null,
            "border": null,
            "align_items": null,
            "bottom": null,
            "_model_module": "@jupyter-widgets/base",
            "top": null,
            "grid_column": null,
            "overflow_y": null,
            "overflow_x": null,
            "grid_auto_flow": null,
            "grid_area": null,
            "grid_template_columns": null,
            "flex": null,
            "_model_name": "LayoutModel",
            "justify_items": null,
            "grid_row": null,
            "max_height": null,
            "align_content": null,
            "visibility": null,
            "align_self": null,
            "height": null,
            "min_height": null,
            "padding": null,
            "grid_auto_rows": null,
            "grid_gap": null,
            "max_width": null,
            "order": null,
            "_view_module_version": "1.2.0",
            "grid_template_areas": null,
            "object_position": null,
            "object_fit": null,
            "grid_auto_columns": null,
            "margin": null,
            "display": null,
            "left": null
          }
        },
        "3faacb82285741b1b622cbb1f1153bc8": {
          "model_module": "@jupyter-widgets/controls",
          "model_name": "IntProgressModel",
          "state": {
            "_view_name": "ProgressView",
            "style": "IPY_MODEL_9844234a936d4f22a01586c10c5cc09a",
            "_dom_classes": [],
            "description": "epoch 3",
            "_model_name": "IntProgressModel",
            "bar_style": "success",
            "max": 1338,
            "_view_module": "@jupyter-widgets/controls",
            "_model_module_version": "1.5.0",
            "value": 1338,
            "_view_count": null,
            "_view_module_version": "1.5.0",
            "orientation": "horizontal",
            "min": 0,
            "description_tooltip": null,
            "_model_module": "@jupyter-widgets/controls",
            "layout": "IPY_MODEL_fbded079c9dd482483a2678fbdcb55c4"
          }
        },
        "42df5449fc7a42899ca5febf3df7b3a4": {
          "model_module": "@jupyter-widgets/controls",
          "model_name": "HTMLModel",
          "state": {
            "_view_name": "HTMLView",
            "style": "IPY_MODEL_5ca36991fe2c4382bf0e423e9721ee35",
            "_dom_classes": [],
            "description": "",
            "_model_name": "HTMLModel",
            "placeholder": "​",
            "_view_module": "@jupyter-widgets/controls",
            "_model_module_version": "1.5.0",
            "value": "100% 1338/1338 [23:52&lt;00:00,  1.06it/s, loss=0.54812]",
            "_view_count": null,
            "_view_module_version": "1.5.0",
            "description_tooltip": null,
            "_model_module": "@jupyter-widgets/controls",
            "layout": "IPY_MODEL_e412095b42334d4a8405f45c9e49bfaf"
          }
        },
        "9844234a936d4f22a01586c10c5cc09a": {
          "model_module": "@jupyter-widgets/controls",
          "model_name": "ProgressStyleModel",
          "state": {
            "_view_name": "StyleView",
            "_model_name": "ProgressStyleModel",
            "description_width": "initial",
            "_view_module": "@jupyter-widgets/base",
            "_model_module_version": "1.5.0",
            "_view_count": null,
            "_view_module_version": "1.2.0",
            "bar_color": null,
            "_model_module": "@jupyter-widgets/controls"
          }
        },
        "fbded079c9dd482483a2678fbdcb55c4": {
          "model_module": "@jupyter-widgets/base",
          "model_name": "LayoutModel",
          "state": {
            "_view_name": "LayoutView",
            "grid_template_rows": null,
            "right": null,
            "justify_content": null,
            "_view_module": "@jupyter-widgets/base",
            "overflow": null,
            "_model_module_version": "1.2.0",
            "_view_count": null,
            "flex_flow": null,
            "width": null,
            "min_width": null,
            "border": null,
            "align_items": null,
            "bottom": null,
            "_model_module": "@jupyter-widgets/base",
            "top": null,
            "grid_column": null,
            "overflow_y": null,
            "overflow_x": null,
            "grid_auto_flow": null,
            "grid_area": null,
            "grid_template_columns": null,
            "flex": null,
            "_model_name": "LayoutModel",
            "justify_items": null,
            "grid_row": null,
            "max_height": null,
            "align_content": null,
            "visibility": null,
            "align_self": null,
            "height": null,
            "min_height": null,
            "padding": null,
            "grid_auto_rows": null,
            "grid_gap": null,
            "max_width": null,
            "order": null,
            "_view_module_version": "1.2.0",
            "grid_template_areas": null,
            "object_position": null,
            "object_fit": null,
            "grid_auto_columns": null,
            "margin": null,
            "display": null,
            "left": null
          }
        },
        "5ca36991fe2c4382bf0e423e9721ee35": {
          "model_module": "@jupyter-widgets/controls",
          "model_name": "DescriptionStyleModel",
          "state": {
            "_view_name": "StyleView",
            "_model_name": "DescriptionStyleModel",
            "description_width": "",
            "_view_module": "@jupyter-widgets/base",
            "_model_module_version": "1.5.0",
            "_view_count": null,
            "_view_module_version": "1.2.0",
            "_model_module": "@jupyter-widgets/controls"
          }
        },
        "e412095b42334d4a8405f45c9e49bfaf": {
          "model_module": "@jupyter-widgets/base",
          "model_name": "LayoutModel",
          "state": {
            "_view_name": "LayoutView",
            "grid_template_rows": null,
            "right": null,
            "justify_content": null,
            "_view_module": "@jupyter-widgets/base",
            "overflow": null,
            "_model_module_version": "1.2.0",
            "_view_count": null,
            "flex_flow": null,
            "width": null,
            "min_width": null,
            "border": null,
            "align_items": null,
            "bottom": null,
            "_model_module": "@jupyter-widgets/base",
            "top": null,
            "grid_column": null,
            "overflow_y": null,
            "overflow_x": null,
            "grid_auto_flow": null,
            "grid_area": null,
            "grid_template_columns": null,
            "flex": null,
            "_model_name": "LayoutModel",
            "justify_items": null,
            "grid_row": null,
            "max_height": null,
            "align_content": null,
            "visibility": null,
            "align_self": null,
            "height": null,
            "min_height": null,
            "padding": null,
            "grid_auto_rows": null,
            "grid_gap": null,
            "max_width": null,
            "order": null,
            "_view_module_version": "1.2.0",
            "grid_template_areas": null,
            "object_position": null,
            "object_fit": null,
            "grid_auto_columns": null,
            "margin": null,
            "display": null,
            "left": null
          }
        },
        "97928da49acd42a29b3b0dc11656de63": {
          "model_module": "@jupyter-widgets/controls",
          "model_name": "HBoxModel",
          "state": {
            "_view_name": "HBoxView",
            "_dom_classes": [],
            "_model_name": "HBoxModel",
            "_view_module": "@jupyter-widgets/controls",
            "_model_module_version": "1.5.0",
            "_view_count": null,
            "_view_module_version": "1.5.0",
            "box_style": "",
            "layout": "IPY_MODEL_1c90e430f4ab448281e018910a62778f",
            "_model_module": "@jupyter-widgets/controls",
            "children": [
              "IPY_MODEL_4315aae60eac49c5a7fe1887a4d6b6b8",
              "IPY_MODEL_4d8271ab3b79428b92c8b221d95ae3c3"
            ]
          }
        },
        "1c90e430f4ab448281e018910a62778f": {
          "model_module": "@jupyter-widgets/base",
          "model_name": "LayoutModel",
          "state": {
            "_view_name": "LayoutView",
            "grid_template_rows": null,
            "right": null,
            "justify_content": null,
            "_view_module": "@jupyter-widgets/base",
            "overflow": null,
            "_model_module_version": "1.2.0",
            "_view_count": null,
            "flex_flow": null,
            "width": null,
            "min_width": null,
            "border": null,
            "align_items": null,
            "bottom": null,
            "_model_module": "@jupyter-widgets/base",
            "top": null,
            "grid_column": null,
            "overflow_y": null,
            "overflow_x": null,
            "grid_auto_flow": null,
            "grid_area": null,
            "grid_template_columns": null,
            "flex": null,
            "_model_name": "LayoutModel",
            "justify_items": null,
            "grid_row": null,
            "max_height": null,
            "align_content": null,
            "visibility": null,
            "align_self": null,
            "height": null,
            "min_height": null,
            "padding": null,
            "grid_auto_rows": null,
            "grid_gap": null,
            "max_width": null,
            "order": null,
            "_view_module_version": "1.2.0",
            "grid_template_areas": null,
            "object_position": null,
            "object_fit": null,
            "grid_auto_columns": null,
            "margin": null,
            "display": null,
            "left": null
          }
        },
        "4315aae60eac49c5a7fe1887a4d6b6b8": {
          "model_module": "@jupyter-widgets/controls",
          "model_name": "IntProgressModel",
          "state": {
            "_view_name": "ProgressView",
            "style": "IPY_MODEL_283ddaa0400c4ab08c2359eeb5c31d55",
            "_dom_classes": [],
            "description": "epoch 4",
            "_model_name": "IntProgressModel",
            "bar_style": "success",
            "max": 1338,
            "_view_module": "@jupyter-widgets/controls",
            "_model_module_version": "1.5.0",
            "value": 1338,
            "_view_count": null,
            "_view_module_version": "1.5.0",
            "orientation": "horizontal",
            "min": 0,
            "description_tooltip": null,
            "_model_module": "@jupyter-widgets/controls",
            "layout": "IPY_MODEL_030a427f17084249b02817ceb2adb027"
          }
        },
        "4d8271ab3b79428b92c8b221d95ae3c3": {
          "model_module": "@jupyter-widgets/controls",
          "model_name": "HTMLModel",
          "state": {
            "_view_name": "HTMLView",
            "style": "IPY_MODEL_aa74b1cf09f74ca9889929a0db4fd58e",
            "_dom_classes": [],
            "description": "",
            "_model_name": "HTMLModel",
            "placeholder": "​",
            "_view_module": "@jupyter-widgets/controls",
            "_model_module_version": "1.5.0",
            "value": "100% 1338/1338 [23:33&lt;00:00,  1.12it/s, loss=0.34517]",
            "_view_count": null,
            "_view_module_version": "1.5.0",
            "description_tooltip": null,
            "_model_module": "@jupyter-widgets/controls",
            "layout": "IPY_MODEL_277e539518f8447ba8a4093c060f6941"
          }
        },
        "283ddaa0400c4ab08c2359eeb5c31d55": {
          "model_module": "@jupyter-widgets/controls",
          "model_name": "ProgressStyleModel",
          "state": {
            "_view_name": "StyleView",
            "_model_name": "ProgressStyleModel",
            "description_width": "initial",
            "_view_module": "@jupyter-widgets/base",
            "_model_module_version": "1.5.0",
            "_view_count": null,
            "_view_module_version": "1.2.0",
            "bar_color": null,
            "_model_module": "@jupyter-widgets/controls"
          }
        },
        "030a427f17084249b02817ceb2adb027": {
          "model_module": "@jupyter-widgets/base",
          "model_name": "LayoutModel",
          "state": {
            "_view_name": "LayoutView",
            "grid_template_rows": null,
            "right": null,
            "justify_content": null,
            "_view_module": "@jupyter-widgets/base",
            "overflow": null,
            "_model_module_version": "1.2.0",
            "_view_count": null,
            "flex_flow": null,
            "width": null,
            "min_width": null,
            "border": null,
            "align_items": null,
            "bottom": null,
            "_model_module": "@jupyter-widgets/base",
            "top": null,
            "grid_column": null,
            "overflow_y": null,
            "overflow_x": null,
            "grid_auto_flow": null,
            "grid_area": null,
            "grid_template_columns": null,
            "flex": null,
            "_model_name": "LayoutModel",
            "justify_items": null,
            "grid_row": null,
            "max_height": null,
            "align_content": null,
            "visibility": null,
            "align_self": null,
            "height": null,
            "min_height": null,
            "padding": null,
            "grid_auto_rows": null,
            "grid_gap": null,
            "max_width": null,
            "order": null,
            "_view_module_version": "1.2.0",
            "grid_template_areas": null,
            "object_position": null,
            "object_fit": null,
            "grid_auto_columns": null,
            "margin": null,
            "display": null,
            "left": null
          }
        },
        "aa74b1cf09f74ca9889929a0db4fd58e": {
          "model_module": "@jupyter-widgets/controls",
          "model_name": "DescriptionStyleModel",
          "state": {
            "_view_name": "StyleView",
            "_model_name": "DescriptionStyleModel",
            "description_width": "",
            "_view_module": "@jupyter-widgets/base",
            "_model_module_version": "1.5.0",
            "_view_count": null,
            "_view_module_version": "1.2.0",
            "_model_module": "@jupyter-widgets/controls"
          }
        },
        "277e539518f8447ba8a4093c060f6941": {
          "model_module": "@jupyter-widgets/base",
          "model_name": "LayoutModel",
          "state": {
            "_view_name": "LayoutView",
            "grid_template_rows": null,
            "right": null,
            "justify_content": null,
            "_view_module": "@jupyter-widgets/base",
            "overflow": null,
            "_model_module_version": "1.2.0",
            "_view_count": null,
            "flex_flow": null,
            "width": null,
            "min_width": null,
            "border": null,
            "align_items": null,
            "bottom": null,
            "_model_module": "@jupyter-widgets/base",
            "top": null,
            "grid_column": null,
            "overflow_y": null,
            "overflow_x": null,
            "grid_auto_flow": null,
            "grid_area": null,
            "grid_template_columns": null,
            "flex": null,
            "_model_name": "LayoutModel",
            "justify_items": null,
            "grid_row": null,
            "max_height": null,
            "align_content": null,
            "visibility": null,
            "align_self": null,
            "height": null,
            "min_height": null,
            "padding": null,
            "grid_auto_rows": null,
            "grid_gap": null,
            "max_width": null,
            "order": null,
            "_view_module_version": "1.2.0",
            "grid_template_areas": null,
            "object_position": null,
            "object_fit": null,
            "grid_auto_columns": null,
            "margin": null,
            "display": null,
            "left": null
          }
        }
      }
    }
  },
  "cells": [
    {
      "cell_type": "markdown",
      "metadata": {
        "id": "uPSxjQa5DQOL",
        "colab_type": "text"
      },
      "source": [
        "**Assignment 6**\n",
        "\n",
        "[3 points] Delelop language model, which generates texts from wikipedia.\n",
        "Use WikiText-2 dataset, also available in torchtext.datasets.\n",
        "Use sentencepiece or tokenizers library for text tokenization. Pay attention to vocab size, probably subword tokens are better.\n",
        "\n",
        "Your model should be autogressive RNN.\n",
        "\n",
        "[1 point] Plot train and validation loss depending on the number of iterations of gradient decent.\n",
        "\n",
        "[1 point] Try to use together (sentencepiece or tokenizers), torchtext.datasets, and torchtext.data.BPTTIterator\n"
      ]
    },
    {
      "cell_type": "markdown",
      "metadata": {
        "id": "Xewb0b0eDdsI",
        "colab_type": "text"
      },
      "source": [
        "Text generation should be terminated when either max length is reached or terminal symbol is generated.\n",
        "Explore several inference techniques:\n",
        "\n",
        "[1 point] Argmax\n",
        "\n",
        "[1 point] Beamsearch\n",
        "\n",
        "[1 point] Sampling from probabilty distribution with temperature\n",
        "\n",
        "[1 point] Nucleus sampling\n",
        "\n",
        "[1 point] Top-k sampling\n",
        "\n",
        "For every method you should provide implemented code and generated examples. Each example must contain at least 10 words (not subword tokens)."
      ]
    },
    {
      "cell_type": "code",
      "metadata": {
        "id": "KAIOCSOcxr4y",
        "colab_type": "code",
        "outputId": "017577fd-7b65-425f-8273-94077d9ece07",
        "colab": {
          "base_uri": "https://localhost:8080/",
          "height": 122
        }
      },
      "source": [
        "pip install tokenizers"
      ],
      "execution_count": 0,
      "outputs": [
        {
          "output_type": "stream",
          "text": [
            "Collecting tokenizers\n",
            "\u001b[?25l  Downloading https://files.pythonhosted.org/packages/3e/d8/5af89a486513ef9c1d1f7a8ad6231f3d20e2015fc84533ff7d25005c8717/tokenizers-0.2.1-cp36-cp36m-manylinux1_x86_64.whl (3.6MB)\n",
            "\r\u001b[K     |                                | 10kB 21.1MB/s eta 0:00:01\r\u001b[K     |▏                               | 20kB 6.6MB/s eta 0:00:01\r\u001b[K     |▎                               | 30kB 8.3MB/s eta 0:00:01\r\u001b[K     |▍                               | 40kB 6.1MB/s eta 0:00:01\r\u001b[K     |▌                               | 51kB 7.3MB/s eta 0:00:01\r\u001b[K     |▌                               | 61kB 8.6MB/s eta 0:00:01\r\u001b[K     |▋                               | 71kB 8.9MB/s eta 0:00:01\r\u001b[K     |▊                               | 81kB 7.7MB/s eta 0:00:01\r\u001b[K     |▉                               | 92kB 8.4MB/s eta 0:00:01\r\u001b[K     |█                               | 102kB 9.1MB/s eta 0:00:01\r\u001b[K     |█                               | 112kB 9.1MB/s eta 0:00:01\r\u001b[K     |█                               | 122kB 9.1MB/s eta 0:00:01\r\u001b[K     |█▏                              | 133kB 9.1MB/s eta 0:00:01\r\u001b[K     |█▎                              | 143kB 9.1MB/s eta 0:00:01\r\u001b[K     |█▍                              | 153kB 9.1MB/s eta 0:00:01\r\u001b[K     |█▍                              | 163kB 9.1MB/s eta 0:00:01\r\u001b[K     |█▌                              | 174kB 9.1MB/s eta 0:00:01\r\u001b[K     |█▋                              | 184kB 9.1MB/s eta 0:00:01\r\u001b[K     |█▊                              | 194kB 9.1MB/s eta 0:00:01\r\u001b[K     |█▉                              | 204kB 9.1MB/s eta 0:00:01\r\u001b[K     |█▉                              | 215kB 9.1MB/s eta 0:00:01\r\u001b[K     |██                              | 225kB 9.1MB/s eta 0:00:01\r\u001b[K     |██                              | 235kB 9.1MB/s eta 0:00:01\r\u001b[K     |██▏                             | 245kB 9.1MB/s eta 0:00:01\r\u001b[K     |██▎                             | 256kB 9.1MB/s eta 0:00:01\r\u001b[K     |██▍                             | 266kB 9.1MB/s eta 0:00:01\r\u001b[K     |██▍                             | 276kB 9.1MB/s eta 0:00:01\r\u001b[K     |██▌                             | 286kB 9.1MB/s eta 0:00:01\r\u001b[K     |██▋                             | 296kB 9.1MB/s eta 0:00:01\r\u001b[K     |██▊                             | 307kB 9.1MB/s eta 0:00:01\r\u001b[K     |██▉                             | 317kB 9.1MB/s eta 0:00:01\r\u001b[K     |██▉                             | 327kB 9.1MB/s eta 0:00:01\r\u001b[K     |███                             | 337kB 9.1MB/s eta 0:00:01\r\u001b[K     |███                             | 348kB 9.1MB/s eta 0:00:01\r\u001b[K     |███▏                            | 358kB 9.1MB/s eta 0:00:01\r\u001b[K     |███▎                            | 368kB 9.1MB/s eta 0:00:01\r\u001b[K     |███▎                            | 378kB 9.1MB/s eta 0:00:01\r\u001b[K     |███▍                            | 389kB 9.1MB/s eta 0:00:01\r\u001b[K     |███▌                            | 399kB 9.1MB/s eta 0:00:01\r\u001b[K     |███▋                            | 409kB 9.1MB/s eta 0:00:01\r\u001b[K     |███▊                            | 419kB 9.1MB/s eta 0:00:01\r\u001b[K     |███▊                            | 430kB 9.1MB/s eta 0:00:01\r\u001b[K     |███▉                            | 440kB 9.1MB/s eta 0:00:01\r\u001b[K     |████                            | 450kB 9.1MB/s eta 0:00:01\r\u001b[K     |████                            | 460kB 9.1MB/s eta 0:00:01\r\u001b[K     |████▏                           | 471kB 9.1MB/s eta 0:00:01\r\u001b[K     |████▎                           | 481kB 9.1MB/s eta 0:00:01\r\u001b[K     |████▎                           | 491kB 9.1MB/s eta 0:00:01\r\u001b[K     |████▍                           | 501kB 9.1MB/s eta 0:00:01\r\u001b[K     |████▌                           | 512kB 9.1MB/s eta 0:00:01\r\u001b[K     |████▋                           | 522kB 9.1MB/s eta 0:00:01\r\u001b[K     |████▊                           | 532kB 9.1MB/s eta 0:00:01\r\u001b[K     |████▊                           | 542kB 9.1MB/s eta 0:00:01\r\u001b[K     |████▉                           | 552kB 9.1MB/s eta 0:00:01\r\u001b[K     |█████                           | 563kB 9.1MB/s eta 0:00:01\r\u001b[K     |█████                           | 573kB 9.1MB/s eta 0:00:01\r\u001b[K     |█████▏                          | 583kB 9.1MB/s eta 0:00:01\r\u001b[K     |█████▏                          | 593kB 9.1MB/s eta 0:00:01\r\u001b[K     |█████▎                          | 604kB 9.1MB/s eta 0:00:01\r\u001b[K     |█████▍                          | 614kB 9.1MB/s eta 0:00:01\r\u001b[K     |█████▌                          | 624kB 9.1MB/s eta 0:00:01\r\u001b[K     |█████▋                          | 634kB 9.1MB/s eta 0:00:01\r\u001b[K     |█████▋                          | 645kB 9.1MB/s eta 0:00:01\r\u001b[K     |█████▊                          | 655kB 9.1MB/s eta 0:00:01\r\u001b[K     |█████▉                          | 665kB 9.1MB/s eta 0:00:01\r\u001b[K     |██████                          | 675kB 9.1MB/s eta 0:00:01\r\u001b[K     |██████                          | 686kB 9.1MB/s eta 0:00:01\r\u001b[K     |██████                          | 696kB 9.1MB/s eta 0:00:01\r\u001b[K     |██████▏                         | 706kB 9.1MB/s eta 0:00:01\r\u001b[K     |██████▎                         | 716kB 9.1MB/s eta 0:00:01\r\u001b[K     |██████▍                         | 727kB 9.1MB/s eta 0:00:01\r\u001b[K     |██████▌                         | 737kB 9.1MB/s eta 0:00:01\r\u001b[K     |██████▋                         | 747kB 9.1MB/s eta 0:00:01\r\u001b[K     |██████▋                         | 757kB 9.1MB/s eta 0:00:01\r\u001b[K     |██████▊                         | 768kB 9.1MB/s eta 0:00:01\r\u001b[K     |██████▉                         | 778kB 9.1MB/s eta 0:00:01\r\u001b[K     |███████                         | 788kB 9.1MB/s eta 0:00:01\r\u001b[K     |███████                         | 798kB 9.1MB/s eta 0:00:01\r\u001b[K     |███████                         | 808kB 9.1MB/s eta 0:00:01\r\u001b[K     |███████▏                        | 819kB 9.1MB/s eta 0:00:01\r\u001b[K     |███████▎                        | 829kB 9.1MB/s eta 0:00:01\r\u001b[K     |███████▍                        | 839kB 9.1MB/s eta 0:00:01\r\u001b[K     |███████▌                        | 849kB 9.1MB/s eta 0:00:01\r\u001b[K     |███████▌                        | 860kB 9.1MB/s eta 0:00:01\r\u001b[K     |███████▋                        | 870kB 9.1MB/s eta 0:00:01\r\u001b[K     |███████▊                        | 880kB 9.1MB/s eta 0:00:01\r\u001b[K     |███████▉                        | 890kB 9.1MB/s eta 0:00:01\r\u001b[K     |████████                        | 901kB 9.1MB/s eta 0:00:01\r\u001b[K     |████████                        | 911kB 9.1MB/s eta 0:00:01\r\u001b[K     |████████                        | 921kB 9.1MB/s eta 0:00:01\r\u001b[K     |████████▏                       | 931kB 9.1MB/s eta 0:00:01\r\u001b[K     |████████▎                       | 942kB 9.1MB/s eta 0:00:01\r\u001b[K     |████████▍                       | 952kB 9.1MB/s eta 0:00:01\r\u001b[K     |████████▌                       | 962kB 9.1MB/s eta 0:00:01\r\u001b[K     |████████▌                       | 972kB 9.1MB/s eta 0:00:01\r\u001b[K     |████████▋                       | 983kB 9.1MB/s eta 0:00:01\r\u001b[K     |████████▊                       | 993kB 9.1MB/s eta 0:00:01\r\u001b[K     |████████▉                       | 1.0MB 9.1MB/s eta 0:00:01\r\u001b[K     |█████████                       | 1.0MB 9.1MB/s eta 0:00:01\r\u001b[K     |█████████                       | 1.0MB 9.1MB/s eta 0:00:01\r\u001b[K     |█████████                       | 1.0MB 9.1MB/s eta 0:00:01\r\u001b[K     |█████████▏                      | 1.0MB 9.1MB/s eta 0:00:01\r\u001b[K     |█████████▎                      | 1.1MB 9.1MB/s eta 0:00:01\r\u001b[K     |█████████▍                      | 1.1MB 9.1MB/s eta 0:00:01\r\u001b[K     |█████████▍                      | 1.1MB 9.1MB/s eta 0:00:01\r\u001b[K     |█████████▌                      | 1.1MB 9.1MB/s eta 0:00:01\r\u001b[K     |█████████▋                      | 1.1MB 9.1MB/s eta 0:00:01\r\u001b[K     |█████████▊                      | 1.1MB 9.1MB/s eta 0:00:01\r\u001b[K     |█████████▉                      | 1.1MB 9.1MB/s eta 0:00:01\r\u001b[K     |█████████▉                      | 1.1MB 9.1MB/s eta 0:00:01\r\u001b[K     |██████████                      | 1.1MB 9.1MB/s eta 0:00:01\r\u001b[K     |██████████                      | 1.1MB 9.1MB/s eta 0:00:01\r\u001b[K     |██████████▏                     | 1.2MB 9.1MB/s eta 0:00:01\r\u001b[K     |██████████▎                     | 1.2MB 9.1MB/s eta 0:00:01\r\u001b[K     |██████████▎                     | 1.2MB 9.1MB/s eta 0:00:01\r\u001b[K     |██████████▍                     | 1.2MB 9.1MB/s eta 0:00:01\r\u001b[K     |██████████▌                     | 1.2MB 9.1MB/s eta 0:00:01\r\u001b[K     |██████████▋                     | 1.2MB 9.1MB/s eta 0:00:01\r\u001b[K     |██████████▊                     | 1.2MB 9.1MB/s eta 0:00:01\r\u001b[K     |██████████▉                     | 1.2MB 9.1MB/s eta 0:00:01\r\u001b[K     |██████████▉                     | 1.2MB 9.1MB/s eta 0:00:01\r\u001b[K     |███████████                     | 1.2MB 9.1MB/s eta 0:00:01\r\u001b[K     |███████████                     | 1.3MB 9.1MB/s eta 0:00:01\r\u001b[K     |███████████▏                    | 1.3MB 9.1MB/s eta 0:00:01\r\u001b[K     |███████████▎                    | 1.3MB 9.1MB/s eta 0:00:01\r\u001b[K     |███████████▎                    | 1.3MB 9.1MB/s eta 0:00:01\r\u001b[K     |███████████▍                    | 1.3MB 9.1MB/s eta 0:00:01\r\u001b[K     |███████████▌                    | 1.3MB 9.1MB/s eta 0:00:01\r\u001b[K     |███████████▋                    | 1.3MB 9.1MB/s eta 0:00:01\r\u001b[K     |███████████▊                    | 1.3MB 9.1MB/s eta 0:00:01\r\u001b[K     |███████████▊                    | 1.3MB 9.1MB/s eta 0:00:01\r\u001b[K     |███████████▉                    | 1.4MB 9.1MB/s eta 0:00:01\r\u001b[K     |████████████                    | 1.4MB 9.1MB/s eta 0:00:01\r\u001b[K     |████████████                    | 1.4MB 9.1MB/s eta 0:00:01\r\u001b[K     |████████████▏                   | 1.4MB 9.1MB/s eta 0:00:01\r\u001b[K     |████████████▏                   | 1.4MB 9.1MB/s eta 0:00:01\r\u001b[K     |████████████▎                   | 1.4MB 9.1MB/s eta 0:00:01\r\u001b[K     |████████████▍                   | 1.4MB 9.1MB/s eta 0:00:01\r\u001b[K     |████████████▌                   | 1.4MB 9.1MB/s eta 0:00:01\r\u001b[K     |████████████▋                   | 1.4MB 9.1MB/s eta 0:00:01\r\u001b[K     |████████████▊                   | 1.4MB 9.1MB/s eta 0:00:01\r\u001b[K     |████████████▊                   | 1.5MB 9.1MB/s eta 0:00:01\r\u001b[K     |████████████▉                   | 1.5MB 9.1MB/s eta 0:00:01\r\u001b[K     |█████████████                   | 1.5MB 9.1MB/s eta 0:00:01\r\u001b[K     |█████████████                   | 1.5MB 9.1MB/s eta 0:00:01\r\u001b[K     |█████████████▏                  | 1.5MB 9.1MB/s eta 0:00:01\r\u001b[K     |█████████████▏                  | 1.5MB 9.1MB/s eta 0:00:01\r\u001b[K     |█████████████▎                  | 1.5MB 9.1MB/s eta 0:00:01\r\u001b[K     |█████████████▍                  | 1.5MB 9.1MB/s eta 0:00:01\r\u001b[K     |█████████████▌                  | 1.5MB 9.1MB/s eta 0:00:01\r\u001b[K     |█████████████▋                  | 1.5MB 9.1MB/s eta 0:00:01\r\u001b[K     |█████████████▋                  | 1.6MB 9.1MB/s eta 0:00:01\r\u001b[K     |█████████████▊                  | 1.6MB 9.1MB/s eta 0:00:01\r\u001b[K     |█████████████▉                  | 1.6MB 9.1MB/s eta 0:00:01\r\u001b[K     |██████████████                  | 1.6MB 9.1MB/s eta 0:00:01\r\u001b[K     |██████████████                  | 1.6MB 9.1MB/s eta 0:00:01\r\u001b[K     |██████████████                  | 1.6MB 9.1MB/s eta 0:00:01\r\u001b[K     |██████████████▏                 | 1.6MB 9.1MB/s eta 0:00:01\r\u001b[K     |██████████████▎                 | 1.6MB 9.1MB/s eta 0:00:01\r\u001b[K     |██████████████▍                 | 1.6MB 9.1MB/s eta 0:00:01\r\u001b[K     |██████████████▌                 | 1.6MB 9.1MB/s eta 0:00:01\r\u001b[K     |██████████████▋                 | 1.7MB 9.1MB/s eta 0:00:01\r\u001b[K     |██████████████▋                 | 1.7MB 9.1MB/s eta 0:00:01\r\u001b[K     |██████████████▊                 | 1.7MB 9.1MB/s eta 0:00:01\r\u001b[K     |██████████████▉                 | 1.7MB 9.1MB/s eta 0:00:01\r\u001b[K     |███████████████                 | 1.7MB 9.1MB/s eta 0:00:01\r\u001b[K     |███████████████                 | 1.7MB 9.1MB/s eta 0:00:01\r\u001b[K     |███████████████                 | 1.7MB 9.1MB/s eta 0:00:01\r\u001b[K     |███████████████▏                | 1.7MB 9.1MB/s eta 0:00:01\r\u001b[K     |███████████████▎                | 1.7MB 9.1MB/s eta 0:00:01\r\u001b[K     |███████████████▍                | 1.8MB 9.1MB/s eta 0:00:01\r\u001b[K     |███████████████▌                | 1.8MB 9.1MB/s eta 0:00:01\r\u001b[K     |███████████████▌                | 1.8MB 9.1MB/s eta 0:00:01\r\u001b[K     |███████████████▋                | 1.8MB 9.1MB/s eta 0:00:01\r\u001b[K     |███████████████▊                | 1.8MB 9.1MB/s eta 0:00:01\r\u001b[K     |███████████████▉                | 1.8MB 9.1MB/s eta 0:00:01\r\u001b[K     |████████████████                | 1.8MB 9.1MB/s eta 0:00:01\r\u001b[K     |████████████████                | 1.8MB 9.1MB/s eta 0:00:01\r\u001b[K     |████████████████                | 1.8MB 9.1MB/s eta 0:00:01\r\u001b[K     |████████████████▏               | 1.8MB 9.1MB/s eta 0:00:01\r\u001b[K     |████████████████▎               | 1.9MB 9.1MB/s eta 0:00:01\r\u001b[K     |████████████████▍               | 1.9MB 9.1MB/s eta 0:00:01\r\u001b[K     |████████████████▍               | 1.9MB 9.1MB/s eta 0:00:01\r\u001b[K     |████████████████▌               | 1.9MB 9.1MB/s eta 0:00:01\r\u001b[K     |████████████████▋               | 1.9MB 9.1MB/s eta 0:00:01\r\u001b[K     |████████████████▊               | 1.9MB 9.1MB/s eta 0:00:01\r\u001b[K     |████████████████▉               | 1.9MB 9.1MB/s eta 0:00:01\r\u001b[K     |█████████████████               | 1.9MB 9.1MB/s eta 0:00:01\r\u001b[K     |█████████████████               | 1.9MB 9.1MB/s eta 0:00:01\r\u001b[K     |█████████████████               | 1.9MB 9.1MB/s eta 0:00:01\r\u001b[K     |█████████████████▏              | 2.0MB 9.1MB/s eta 0:00:01\r\u001b[K     |█████████████████▎              | 2.0MB 9.1MB/s eta 0:00:01\r\u001b[K     |█████████████████▍              | 2.0MB 9.1MB/s eta 0:00:01\r\u001b[K     |█████████████████▍              | 2.0MB 9.1MB/s eta 0:00:01\r\u001b[K     |█████████████████▌              | 2.0MB 9.1MB/s eta 0:00:01\r\u001b[K     |█████████████████▋              | 2.0MB 9.1MB/s eta 0:00:01\r\u001b[K     |█████████████████▊              | 2.0MB 9.1MB/s eta 0:00:01\r\u001b[K     |█████████████████▉              | 2.0MB 9.1MB/s eta 0:00:01\r\u001b[K     |█████████████████▉              | 2.0MB 9.1MB/s eta 0:00:01\r\u001b[K     |██████████████████              | 2.0MB 9.1MB/s eta 0:00:01\r\u001b[K     |██████████████████              | 2.1MB 9.1MB/s eta 0:00:01\r\u001b[K     |██████████████████▏             | 2.1MB 9.1MB/s eta 0:00:01\r\u001b[K     |██████████████████▎             | 2.1MB 9.1MB/s eta 0:00:01\r\u001b[K     |██████████████████▎             | 2.1MB 9.1MB/s eta 0:00:01\r\u001b[K     |██████████████████▍             | 2.1MB 9.1MB/s eta 0:00:01\r\u001b[K     |██████████████████▌             | 2.1MB 9.1MB/s eta 0:00:01\r\u001b[K     |██████████████████▋             | 2.1MB 9.1MB/s eta 0:00:01\r\u001b[K     |██████████████████▊             | 2.1MB 9.1MB/s eta 0:00:01\r\u001b[K     |██████████████████▉             | 2.1MB 9.1MB/s eta 0:00:01\r\u001b[K     |██████████████████▉             | 2.2MB 9.1MB/s eta 0:00:01\r\u001b[K     |███████████████████             | 2.2MB 9.1MB/s eta 0:00:01\r\u001b[K     |███████████████████             | 2.2MB 9.1MB/s eta 0:00:01\r\u001b[K     |███████████████████▏            | 2.2MB 9.1MB/s eta 0:00:01\r\u001b[K     |███████████████████▎            | 2.2MB 9.1MB/s eta 0:00:01\r\u001b[K     |███████████████████▎            | 2.2MB 9.1MB/s eta 0:00:01\r\u001b[K     |███████████████████▍            | 2.2MB 9.1MB/s eta 0:00:01\r\u001b[K     |███████████████████▌            | 2.2MB 9.1MB/s eta 0:00:01\r\u001b[K     |███████████████████▋            | 2.2MB 9.1MB/s eta 0:00:01\r\u001b[K     |███████████████████▊            | 2.2MB 9.1MB/s eta 0:00:01\r\u001b[K     |███████████████████▊            | 2.3MB 9.1MB/s eta 0:00:01\r\u001b[K     |███████████████████▉            | 2.3MB 9.1MB/s eta 0:00:01\r\u001b[K     |████████████████████            | 2.3MB 9.1MB/s eta 0:00:01\r\u001b[K     |████████████████████            | 2.3MB 9.1MB/s eta 0:00:01\r\u001b[K     |████████████████████▏           | 2.3MB 9.1MB/s eta 0:00:01\r\u001b[K     |████████████████████▏           | 2.3MB 9.1MB/s eta 0:00:01\r\u001b[K     |████████████████████▎           | 2.3MB 9.1MB/s eta 0:00:01\r\u001b[K     |████████████████████▍           | 2.3MB 9.1MB/s eta 0:00:01\r\u001b[K     |████████████████████▌           | 2.3MB 9.1MB/s eta 0:00:01\r\u001b[K     |████████████████████▋           | 2.3MB 9.1MB/s eta 0:00:01\r\u001b[K     |████████████████████▋           | 2.4MB 9.1MB/s eta 0:00:01\r\u001b[K     |████████████████████▊           | 2.4MB 9.1MB/s eta 0:00:01\r\u001b[K     |████████████████████▉           | 2.4MB 9.1MB/s eta 0:00:01\r\u001b[K     |█████████████████████           | 2.4MB 9.1MB/s eta 0:00:01\r\u001b[K     |█████████████████████           | 2.4MB 9.1MB/s eta 0:00:01\r\u001b[K     |█████████████████████▏          | 2.4MB 9.1MB/s eta 0:00:01\r\u001b[K     |█████████████████████▏          | 2.4MB 9.1MB/s eta 0:00:01\r\u001b[K     |█████████████████████▎          | 2.4MB 9.1MB/s eta 0:00:01\r\u001b[K     |█████████████████████▍          | 2.4MB 9.1MB/s eta 0:00:01\r\u001b[K     |█████████████████████▌          | 2.4MB 9.1MB/s eta 0:00:01\r\u001b[K     |█████████████████████▋          | 2.5MB 9.1MB/s eta 0:00:01\r\u001b[K     |█████████████████████▋          | 2.5MB 9.1MB/s eta 0:00:01\r\u001b[K     |█████████████████████▊          | 2.5MB 9.1MB/s eta 0:00:01\r\u001b[K     |█████████████████████▉          | 2.5MB 9.1MB/s eta 0:00:01\r\u001b[K     |██████████████████████          | 2.5MB 9.1MB/s eta 0:00:01\r\u001b[K     |██████████████████████          | 2.5MB 9.1MB/s eta 0:00:01\r\u001b[K     |██████████████████████          | 2.5MB 9.1MB/s eta 0:00:01\r\u001b[K     |██████████████████████▏         | 2.5MB 9.1MB/s eta 0:00:01\r\u001b[K     |██████████████████████▎         | 2.5MB 9.1MB/s eta 0:00:01\r\u001b[K     |██████████████████████▍         | 2.5MB 9.1MB/s eta 0:00:01\r\u001b[K     |██████████████████████▌         | 2.6MB 9.1MB/s eta 0:00:01\r\u001b[K     |██████████████████████▌         | 2.6MB 9.1MB/s eta 0:00:01\r\u001b[K     |██████████████████████▋         | 2.6MB 9.1MB/s eta 0:00:01\r\u001b[K     |██████████████████████▊         | 2.6MB 9.1MB/s eta 0:00:01\r\u001b[K     |██████████████████████▉         | 2.6MB 9.1MB/s eta 0:00:01\r\u001b[K     |███████████████████████         | 2.6MB 9.1MB/s eta 0:00:01\r\u001b[K     |███████████████████████         | 2.6MB 9.1MB/s eta 0:00:01\r\u001b[K     |███████████████████████         | 2.6MB 9.1MB/s eta 0:00:01\r\u001b[K     |███████████████████████▏        | 2.6MB 9.1MB/s eta 0:00:01\r\u001b[K     |███████████████████████▎        | 2.7MB 9.1MB/s eta 0:00:01\r\u001b[K     |███████████████████████▍        | 2.7MB 9.1MB/s eta 0:00:01\r\u001b[K     |███████████████████████▌        | 2.7MB 9.1MB/s eta 0:00:01\r\u001b[K     |███████████████████████▌        | 2.7MB 9.1MB/s eta 0:00:01\r\u001b[K     |███████████████████████▋        | 2.7MB 9.1MB/s eta 0:00:01\r\u001b[K     |███████████████████████▊        | 2.7MB 9.1MB/s eta 0:00:01\r\u001b[K     |███████████████████████▉        | 2.7MB 9.1MB/s eta 0:00:01\r\u001b[K     |████████████████████████        | 2.7MB 9.1MB/s eta 0:00:01\r\u001b[K     |████████████████████████        | 2.7MB 9.1MB/s eta 0:00:01\r\u001b[K     |████████████████████████        | 2.7MB 9.1MB/s eta 0:00:01\r\u001b[K     |████████████████████████▏       | 2.8MB 9.1MB/s eta 0:00:01\r\u001b[K     |████████████████████████▎       | 2.8MB 9.1MB/s eta 0:00:01\r\u001b[K     |████████████████████████▍       | 2.8MB 9.1MB/s eta 0:00:01\r\u001b[K     |████████████████████████▍       | 2.8MB 9.1MB/s eta 0:00:01\r\u001b[K     |████████████████████████▌       | 2.8MB 9.1MB/s eta 0:00:01\r\u001b[K     |████████████████████████▋       | 2.8MB 9.1MB/s eta 0:00:01\r\u001b[K     |████████████████████████▊       | 2.8MB 9.1MB/s eta 0:00:01\r\u001b[K     |████████████████████████▉       | 2.8MB 9.1MB/s eta 0:00:01\r\u001b[K     |█████████████████████████       | 2.8MB 9.1MB/s eta 0:00:01\r\u001b[K     |█████████████████████████       | 2.8MB 9.1MB/s eta 0:00:01\r\u001b[K     |█████████████████████████       | 2.9MB 9.1MB/s eta 0:00:01\r\u001b[K     |█████████████████████████▏      | 2.9MB 9.1MB/s eta 0:00:01\r\u001b[K     |█████████████████████████▎      | 2.9MB 9.1MB/s eta 0:00:01\r\u001b[K     |█████████████████████████▍      | 2.9MB 9.1MB/s eta 0:00:01\r\u001b[K     |█████████████████████████▍      | 2.9MB 9.1MB/s eta 0:00:01\r\u001b[K     |█████████████████████████▌      | 2.9MB 9.1MB/s eta 0:00:01\r\u001b[K     |█████████████████████████▋      | 2.9MB 9.1MB/s eta 0:00:01\r\u001b[K     |█████████████████████████▊      | 2.9MB 9.1MB/s eta 0:00:01\r\u001b[K     |█████████████████████████▉      | 2.9MB 9.1MB/s eta 0:00:01\r\u001b[K     |█████████████████████████▉      | 2.9MB 9.1MB/s eta 0:00:01\r\u001b[K     |██████████████████████████      | 3.0MB 9.1MB/s eta 0:00:01\r\u001b[K     |██████████████████████████      | 3.0MB 9.1MB/s eta 0:00:01\r\u001b[K     |██████████████████████████▏     | 3.0MB 9.1MB/s eta 0:00:01\r\u001b[K     |██████████████████████████▎     | 3.0MB 9.1MB/s eta 0:00:01\r\u001b[K     |██████████████████████████▎     | 3.0MB 9.1MB/s eta 0:00:01\r\u001b[K     |██████████████████████████▍     | 3.0MB 9.1MB/s eta 0:00:01\r\u001b[K     |██████████████████████████▌     | 3.0MB 9.1MB/s eta 0:00:01\r\u001b[K     |██████████████████████████▋     | 3.0MB 9.1MB/s eta 0:00:01\r\u001b[K     |██████████████████████████▊     | 3.0MB 9.1MB/s eta 0:00:01\r\u001b[K     |██████████████████████████▊     | 3.1MB 9.1MB/s eta 0:00:01\r\u001b[K     |██████████████████████████▉     | 3.1MB 9.1MB/s eta 0:00:01\r\u001b[K     |███████████████████████████     | 3.1MB 9.1MB/s eta 0:00:01\r\u001b[K     |███████████████████████████     | 3.1MB 9.1MB/s eta 0:00:01\r\u001b[K     |███████████████████████████▏    | 3.1MB 9.1MB/s eta 0:00:01\r\u001b[K     |███████████████████████████▎    | 3.1MB 9.1MB/s eta 0:00:01\r\u001b[K     |███████████████████████████▎    | 3.1MB 9.1MB/s eta 0:00:01\r\u001b[K     |███████████████████████████▍    | 3.1MB 9.1MB/s eta 0:00:01\r\u001b[K     |███████████████████████████▌    | 3.1MB 9.1MB/s eta 0:00:01\r\u001b[K     |███████████████████████████▋    | 3.1MB 9.1MB/s eta 0:00:01\r\u001b[K     |███████████████████████████▊    | 3.2MB 9.1MB/s eta 0:00:01\r\u001b[K     |███████████████████████████▊    | 3.2MB 9.1MB/s eta 0:00:01\r\u001b[K     |███████████████████████████▉    | 3.2MB 9.1MB/s eta 0:00:01\r\u001b[K     |████████████████████████████    | 3.2MB 9.1MB/s eta 0:00:01\r\u001b[K     |████████████████████████████    | 3.2MB 9.1MB/s eta 0:00:01\r\u001b[K     |████████████████████████████▏   | 3.2MB 9.1MB/s eta 0:00:01\r\u001b[K     |████████████████████████████▏   | 3.2MB 9.1MB/s eta 0:00:01\r\u001b[K     |████████████████████████████▎   | 3.2MB 9.1MB/s eta 0:00:01\r\u001b[K     |████████████████████████████▍   | 3.2MB 9.1MB/s eta 0:00:01\r\u001b[K     |████████████████████████████▌   | 3.2MB 9.1MB/s eta 0:00:01\r\u001b[K     |████████████████████████████▋   | 3.3MB 9.1MB/s eta 0:00:01\r\u001b[K     |████████████████████████████▋   | 3.3MB 9.1MB/s eta 0:00:01\r\u001b[K     |████████████████████████████▊   | 3.3MB 9.1MB/s eta 0:00:01\r\u001b[K     |████████████████████████████▉   | 3.3MB 9.1MB/s eta 0:00:01\r\u001b[K     |█████████████████████████████   | 3.3MB 9.1MB/s eta 0:00:01\r\u001b[K     |█████████████████████████████   | 3.3MB 9.1MB/s eta 0:00:01\r\u001b[K     |█████████████████████████████▏  | 3.3MB 9.1MB/s eta 0:00:01\r\u001b[K     |█████████████████████████████▏  | 3.3MB 9.1MB/s eta 0:00:01\r\u001b[K     |█████████████████████████████▎  | 3.3MB 9.1MB/s eta 0:00:01\r\u001b[K     |█████████████████████████████▍  | 3.3MB 9.1MB/s eta 0:00:01\r\u001b[K     |█████████████████████████████▌  | 3.4MB 9.1MB/s eta 0:00:01\r\u001b[K     |█████████████████████████████▋  | 3.4MB 9.1MB/s eta 0:00:01\r\u001b[K     |█████████████████████████████▋  | 3.4MB 9.1MB/s eta 0:00:01\r\u001b[K     |█████████████████████████████▊  | 3.4MB 9.1MB/s eta 0:00:01\r\u001b[K     |█████████████████████████████▉  | 3.4MB 9.1MB/s eta 0:00:01\r\u001b[K     |██████████████████████████████  | 3.4MB 9.1MB/s eta 0:00:01\r\u001b[K     |██████████████████████████████  | 3.4MB 9.1MB/s eta 0:00:01\r\u001b[K     |██████████████████████████████  | 3.4MB 9.1MB/s eta 0:00:01\r\u001b[K     |██████████████████████████████▏ | 3.4MB 9.1MB/s eta 0:00:01\r\u001b[K     |██████████████████████████████▎ | 3.5MB 9.1MB/s eta 0:00:01\r\u001b[K     |██████████████████████████████▍ | 3.5MB 9.1MB/s eta 0:00:01\r\u001b[K     |██████████████████████████████▌ | 3.5MB 9.1MB/s eta 0:00:01\r\u001b[K     |██████████████████████████████▌ | 3.5MB 9.1MB/s eta 0:00:01\r\u001b[K     |██████████████████████████████▋ | 3.5MB 9.1MB/s eta 0:00:01\r\u001b[K     |██████████████████████████████▊ | 3.5MB 9.1MB/s eta 0:00:01\r\u001b[K     |██████████████████████████████▉ | 3.5MB 9.1MB/s eta 0:00:01\r\u001b[K     |███████████████████████████████ | 3.5MB 9.1MB/s eta 0:00:01\r\u001b[K     |███████████████████████████████ | 3.5MB 9.1MB/s eta 0:00:01\r\u001b[K     |███████████████████████████████ | 3.5MB 9.1MB/s eta 0:00:01\r\u001b[K     |███████████████████████████████▏| 3.6MB 9.1MB/s eta 0:00:01\r\u001b[K     |███████████████████████████████▎| 3.6MB 9.1MB/s eta 0:00:01\r\u001b[K     |███████████████████████████████▍| 3.6MB 9.1MB/s eta 0:00:01\r\u001b[K     |███████████████████████████████▌| 3.6MB 9.1MB/s eta 0:00:01\r\u001b[K     |███████████████████████████████▌| 3.6MB 9.1MB/s eta 0:00:01\r\u001b[K     |███████████████████████████████▋| 3.6MB 9.1MB/s eta 0:00:01\r\u001b[K     |███████████████████████████████▊| 3.6MB 9.1MB/s eta 0:00:01\r\u001b[K     |███████████████████████████████▉| 3.6MB 9.1MB/s eta 0:00:01\r\u001b[K     |████████████████████████████████| 3.6MB 9.1MB/s eta 0:00:01\r\u001b[K     |████████████████████████████████| 3.6MB 9.1MB/s eta 0:00:01\r\u001b[K     |████████████████████████████████| 3.7MB 9.1MB/s \n",
            "\u001b[?25hInstalling collected packages: tokenizers\n",
            "Successfully installed tokenizers-0.2.1\n"
          ],
          "name": "stdout"
        }
      ]
    },
    {
      "cell_type": "code",
      "metadata": {
        "id": "7ba2h6TwDH6C",
        "colab_type": "code",
        "colab": {}
      },
      "source": [
        "import pandas as pd\n",
        "import numpy as np\n",
        "import nltk\n",
        "import spacy\n",
        "\n",
        "from sklearn import metrics\n",
        "\n",
        "import torch as tt\n",
        "import torch.nn as nn\n",
        "import torch.nn.functional as F\n",
        "import torch.optim as optim\n",
        "from torch.autograd import Variable\n",
        "\n",
        "from torchtext.data import Field, LabelField, RawField, BPTTIterator\n",
        "from torchtext.datasets import WikiText2\n",
        "\n",
        "from tokenizers import SentencePieceBPETokenizer\n",
        "\n",
        "from tqdm import tqdm\n",
        "from tqdm import tqdm_notebook\n",
        "\n",
        "SEED = 42\n",
        "np.random.seed(SEED)"
      ],
      "execution_count": 0,
      "outputs": []
    },
    {
      "cell_type": "code",
      "metadata": {
        "id": "PtoFRP5VxnTT",
        "colab_type": "code",
        "outputId": "68264a7f-cffa-426e-9190-303e9618b8e7",
        "colab": {
          "base_uri": "https://localhost:8080/",
          "height": 85
        }
      },
      "source": [
        "WikiText2.download(root = '/content/gdrive/My Drive/Colab Notebooks')"
      ],
      "execution_count": 0,
      "outputs": [
        {
          "output_type": "stream",
          "text": [
            "downloading wikitext-2-v1.zip\n"
          ],
          "name": "stdout"
        },
        {
          "output_type": "stream",
          "text": [
            "wikitext-2-v1.zip: 100%|██████████| 4.48M/4.48M [00:00<00:00, 6.55MB/s]\n"
          ],
          "name": "stderr"
        },
        {
          "output_type": "stream",
          "text": [
            "extracting\n"
          ],
          "name": "stdout"
        },
        {
          "output_type": "execute_result",
          "data": {
            "text/plain": [
              "'/content/gdrive/My Drive/Colab Notebooks/wikitext-2/wikitext-2'"
            ]
          },
          "metadata": {
            "tags": []
          },
          "execution_count": 3
        }
      ]
    },
    {
      "cell_type": "code",
      "metadata": {
        "id": "JZZl78T5ETNe",
        "colab_type": "code",
        "colab": {}
      },
      "source": [
        "parts = ['train','valid','test']\n",
        "new_path = '/content/gdrive/My Drive/Colab Notebooks/wikitext-2/wikitext-2'\n",
        "for i in parts:\n",
        "  f_name = new_path + f'/wiki.{i}.tokens'\n",
        "  with open(f_name, 'r') as f:\n",
        "    if i == 'train':\n",
        "      train = f.read()\n",
        "    elif i == 'valid':\n",
        "      valid = f.read()\n",
        "    elif i == 'test':\n",
        "      test = f.read()"
      ],
      "execution_count": 0,
      "outputs": []
    },
    {
      "cell_type": "code",
      "metadata": {
        "id": "xnjpg6bnD9fj",
        "colab_type": "code",
        "outputId": "b85b17bf-438e-4289-92d3-63baf32bf5ec",
        "colab": {
          "base_uri": "https://localhost:8080/",
          "height": 68
        }
      },
      "source": [
        "#let's check out all lengths\n",
        "print(f'Train length = {len(train):7}')\n",
        "print(f'Valid length = {len(valid):8}')\n",
        "print(f'Test length  = {len(test):8}')"
      ],
      "execution_count": 0,
      "outputs": [
        {
          "output_type": "stream",
          "text": [
            "Train length = 10780437\n",
            "Valid length =  1120192\n",
            "Test length  =  1255018\n"
          ],
          "name": "stdout"
        }
      ]
    },
    {
      "cell_type": "code",
      "metadata": {
        "id": "o_2JayGWHBTD",
        "colab_type": "code",
        "outputId": "850a20b0-c5ba-4a26-f8f3-b9272d263d6b",
        "colab": {
          "base_uri": "https://localhost:8080/",
          "height": 68
        }
      },
      "source": [
        "print(f'Train unique characters = {len(set(train))}')\n",
        "print(f'Valid unique characters = {len(set(valid))}')\n",
        "print(f'Test unique characters  = {len(set(test))}')"
      ],
      "execution_count": 0,
      "outputs": [
        {
          "output_type": "stream",
          "text": [
            "Train unique characters = 283\n",
            "Valid unique characters = 122\n",
            "Test unique characters  = 120\n"
          ],
          "name": "stdout"
        }
      ]
    },
    {
      "cell_type": "code",
      "metadata": {
        "id": "QgvCLd0t9vuy",
        "colab_type": "code",
        "outputId": "de07352e-274f-426f-870c-67ee6aea882d",
        "colab": {
          "base_uri": "https://localhost:8080/",
          "height": 34
        }
      },
      "source": [
        "tokenizer = SentencePieceBPETokenizer()\n",
        "tokenizer.add_special_tokens(['<unk>'])"
      ],
      "execution_count": 0,
      "outputs": [
        {
          "output_type": "execute_result",
          "data": {
            "text/plain": [
              "1"
            ]
          },
          "metadata": {
            "tags": []
          },
          "execution_count": 7
        }
      ]
    },
    {
      "cell_type": "code",
      "metadata": {
        "id": "-FXwO3b4A7hu",
        "colab_type": "code",
        "colab": {}
      },
      "source": [
        "new_path = '/content/gdrive/My Drive/Colab Notebooks/wikitext-2/wikitext-2'\n",
        "train_text = new_path + '/wiki.train.tokens'\n",
        "valid_text = new_path + '/wiki.valid.tokens'\n",
        "test_text = new_path + '/wiki.test.tokens'\n",
        "tokenizer.train([train_text, valid_text, test_text], vocab_size=10000)"
      ],
      "execution_count": 0,
      "outputs": []
    },
    {
      "cell_type": "code",
      "metadata": {
        "id": "nbrDMSi2BLme",
        "colab_type": "code",
        "outputId": "fc93f136-767e-4f21-f443-75cabf41a166",
        "colab": {
          "base_uri": "https://localhost:8080/",
          "height": 34
        }
      },
      "source": [
        "tokenizer.encode(\"Hello, world ! <unk>\").tokens"
      ],
      "execution_count": 0,
      "outputs": [
        {
          "output_type": "execute_result",
          "data": {
            "text/plain": [
              "['▁Hell', 'o', ',', '▁world', '▁!', '▁', '<unk>']"
            ]
          },
          "metadata": {
            "tags": []
          },
          "execution_count": 9
        }
      ]
    },
    {
      "cell_type": "code",
      "metadata": {
        "id": "_6fZjZXeI2Ur",
        "colab_type": "code",
        "colab": {}
      },
      "source": [
        "def tok_func(tokenizer, text):\n",
        "  return tokenizer.encode(text).tokens"
      ],
      "execution_count": 0,
      "outputs": []
    },
    {
      "cell_type": "code",
      "metadata": {
        "id": "rsk1uho8JFwC",
        "colab_type": "code",
        "outputId": "31b1f958-5ca2-46ce-ee5e-d8a4227b9c2a",
        "colab": {
          "base_uri": "https://localhost:8080/",
          "height": 34
        }
      },
      "source": [
        "tok_func(tokenizer, \"Hello, world ! <unk>\")"
      ],
      "execution_count": 0,
      "outputs": [
        {
          "output_type": "execute_result",
          "data": {
            "text/plain": [
              "['▁Hell', 'o', ',', '▁world', '▁!', '▁', '<unk>']"
            ]
          },
          "metadata": {
            "tags": []
          },
          "execution_count": 11
        }
      ]
    },
    {
      "cell_type": "code",
      "metadata": {
        "id": "kW4qz6_CIQEY",
        "colab_type": "code",
        "colab": {}
      },
      "source": [
        "TEXT = Field(lower=True, tokenize=lambda x: tok_func(tokenizer, x), include_lengths=False, batch_first=True)"
      ],
      "execution_count": 0,
      "outputs": []
    },
    {
      "cell_type": "code",
      "metadata": {
        "id": "bhlDPvfPISNb",
        "colab_type": "code",
        "outputId": "a766e45e-51bb-4d6b-a38a-4458d51cc471",
        "colab": {
          "base_uri": "https://localhost:8080/",
          "height": 68
        }
      },
      "source": [
        "train, valid, test = WikiText2.splits(TEXT)"
      ],
      "execution_count": 0,
      "outputs": [
        {
          "output_type": "stream",
          "text": [
            "downloading wikitext-2-v1.zip\n"
          ],
          "name": "stdout"
        },
        {
          "output_type": "stream",
          "text": [
            "wikitext-2-v1.zip: 100%|██████████| 4.48M/4.48M [00:00<00:00, 6.64MB/s]\n"
          ],
          "name": "stderr"
        },
        {
          "output_type": "stream",
          "text": [
            "extracting\n"
          ],
          "name": "stdout"
        }
      ]
    },
    {
      "cell_type": "code",
      "metadata": {
        "id": "h2UbB5lIIXcT",
        "colab_type": "code",
        "colab": {}
      },
      "source": [
        "TEXT.build_vocab(train, valid, test)"
      ],
      "execution_count": 0,
      "outputs": []
    },
    {
      "cell_type": "code",
      "metadata": {
        "id": "VLV83yyCJjbb",
        "colab_type": "code",
        "colab": {}
      },
      "source": [
        "device = tt.device('cuda') if tt.cuda.is_available() else tt.device('cpu')"
      ],
      "execution_count": 0,
      "outputs": []
    },
    {
      "cell_type": "code",
      "metadata": {
        "id": "YsxwWGhEFxYn",
        "colab_type": "code",
        "colab": {}
      },
      "source": [
        "train_iter, valid_iter, test_iter = BPTTIterator.splits((train, valid, test),\n",
        "    batch_size=64,\n",
        "    bptt_len=30,\n",
        "    repeat=False,\n",
        "    device=device)"
      ],
      "execution_count": 0,
      "outputs": []
    },
    {
      "cell_type": "code",
      "metadata": {
        "id": "BE5xaJBRJndr",
        "colab_type": "code",
        "outputId": "b11a5460-af3b-4c52-d758-512265275a9a",
        "colab": {
          "base_uri": "https://localhost:8080/",
          "height": 51
        }
      },
      "source": [
        "batch = next(iter(train_iter))\n",
        "print(batch.text[:3, 0])\n",
        "print(batch.target[:3, 0])"
      ],
      "execution_count": 0,
      "outputs": [
        {
          "output_type": "stream",
          "text": [
            "tensor([ 3, 11, 12])\n",
            "tensor([  11,   12, 6854])\n"
          ],
          "name": "stdout"
        }
      ]
    },
    {
      "cell_type": "markdown",
      "metadata": {
        "id": "sgmQpIz-jDUR",
        "colab_type": "text"
      },
      "source": [
        "# Training model"
      ]
    },
    {
      "cell_type": "code",
      "metadata": {
        "id": "aFlJ6BCfK6EK",
        "colab_type": "code",
        "colab": {}
      },
      "source": [
        "class MyModel(nn.Module):\n",
        "    \n",
        "    def __init__(self, vocab_size, embed_size, hidden_size):\n",
        "        super(MyModel, self).__init__()\n",
        "        self.embedding = nn.Embedding(vocab_size, embed_size)\n",
        "        \n",
        "        self.rnn = nn.LSTM(input_size=embed_size,\n",
        "                           hidden_size=hidden_size,\n",
        "                           bidirectional=True,\n",
        "                           batch_first=True,\n",
        "                          )\n",
        "        \n",
        "        self.fc = nn.Linear(hidden_size * 2, vocab_size)\n",
        "        \n",
        "        self.init_weights()\n",
        "        \n",
        "    def init_weights(self):\n",
        "        nn.init.uniform_(self.embedding.weight)\n",
        "        nn.init.xavier_uniform_(self.fc.weight)\n",
        "        nn.init.zeros_(self.fc.bias)\n",
        "        \n",
        "    def forward(self, batch):\n",
        "\n",
        "        if hasattr(batch, 'text'):\n",
        "          x = batch.text.T\n",
        "        else:\n",
        "          x = batch\n",
        "        \n",
        "        x = self.embedding(x)\n",
        "        x, _ = self.rnn(x)\n",
        "        x = self.fc(x)\n",
        "        \n",
        "        return x.transpose(1,2)"
      ],
      "execution_count": 0,
      "outputs": []
    },
    {
      "cell_type": "code",
      "metadata": {
        "id": "_i1x10OGRqG0",
        "colab_type": "code",
        "colab": {}
      },
      "source": [
        "batch_size = 64\n",
        "\n",
        "model = MyModel(vocab_size=len(TEXT.vocab.itos),\n",
        "                embed_size=100,\n",
        "                hidden_size=128,\n",
        "               )\n",
        "\n",
        "optimizer = optim.Adam(model.parameters())\n",
        "scheduler = optim.lr_scheduler.CosineAnnealingLR(optimizer, T_max=5)\n",
        "criterion = nn.CrossEntropyLoss(ignore_index=1)\n",
        "\n",
        "model = model.to(device)\n",
        "criterion = criterion.to(device)\n"
      ],
      "execution_count": 0,
      "outputs": []
    },
    {
      "cell_type": "code",
      "metadata": {
        "id": "_68mbIJqPBbB",
        "colab_type": "code",
        "colab": {}
      },
      "source": [
        "def _train_epoch(model, iterator, optimizer, criterion, curr_epoch):\n",
        "\n",
        "    model.train()\n",
        "\n",
        "    running_loss = 0\n",
        "\n",
        "    train_losses = []\n",
        "\n",
        "    n_batches = len(iterator)\n",
        "    iterator = tqdm_notebook(iterator, total=n_batches, desc='epoch %d' % (curr_epoch), leave=True)\n",
        "\n",
        "    for i, batch in enumerate(iterator):\n",
        "        optimizer.zero_grad()\n",
        "\n",
        "        pred = model(batch)\n",
        "        loss = criterion(pred, batch.target.T)\n",
        "        loss.backward()\n",
        "        optimizer.step()\n",
        "\n",
        "        train_losses.append(loss.item())\n",
        "\n",
        "        curr_loss = loss.data.cpu().detach().item()\n",
        "        loss_smoothing = i / (i+1)\n",
        "        running_loss = loss_smoothing * running_loss + (1 - loss_smoothing) * curr_loss\n",
        "\n",
        "        iterator.set_postfix(loss='%.5f' % running_loss)\n",
        "\n",
        "    return running_loss, train_losses"
      ],
      "execution_count": 0,
      "outputs": []
    },
    {
      "cell_type": "code",
      "metadata": {
        "id": "1KJOiwbUTkxc",
        "colab_type": "code",
        "colab": {}
      },
      "source": [
        "def _test_epoch(model, iterator, criterion):\n",
        "    model.eval()\n",
        "    epoch_loss = 0\n",
        "    n_batches = len(iterator)\n",
        "\n",
        "    valid_losses = []\n",
        "\n",
        "    with tt.no_grad():\n",
        "        for batch in iterator:\n",
        "            pred = model(batch)\n",
        "            loss = criterion(pred, batch.target.T)\n",
        "            epoch_loss += loss.data.item()\n",
        "\n",
        "            valid_losses.append(loss.item())\n",
        "\n",
        "    return epoch_loss / n_batches, valid_losses"
      ],
      "execution_count": 0,
      "outputs": []
    },
    {
      "cell_type": "code",
      "metadata": {
        "id": "ax8T81W7Tn1V",
        "colab_type": "code",
        "colab": {}
      },
      "source": [
        "def nn_train(model, train_iterator, valid_iterator, criterion, optimizer, n_epochs=100,\n",
        "          scheduler=None, early_stopping=0):\n",
        "\n",
        "    prev_loss = 100500\n",
        "    es_epochs = 0\n",
        "    best_epoch = None\n",
        "    history = pd.DataFrame()\n",
        "\n",
        "    all_train_losses = []\n",
        "    all_valid_losses = []\n",
        "\n",
        "    for epoch in range(n_epochs):\n",
        "        train_loss, i_train_losses = _train_epoch(model, train_iterator, optimizer, criterion, epoch)\n",
        "        valid_loss, i_valid_losses = _test_epoch(model, valid_iterator, criterion)\n",
        "        all_train_losses.append(i_train_losses)\n",
        "        all_valid_losses.append(i_valid_losses)\n",
        "\n",
        "        valid_loss = valid_loss\n",
        "        print('validation loss %.5f' % valid_loss)\n",
        "\n",
        "        record = {'epoch': epoch, 'train_loss': train_loss, 'valid_loss': valid_loss}\n",
        "        history = history.append(record, ignore_index=True)\n",
        "\n",
        "        if early_stopping > 0:\n",
        "            if valid_loss > prev_loss:\n",
        "                es_epochs += 1\n",
        "            else:\n",
        "                es_epochs = 0\n",
        "\n",
        "            if es_epochs >= early_stopping:\n",
        "                best_epoch = history[history.valid_loss == history.valid_loss.min()].iloc[0]\n",
        "                print('Early stopping! best epoch: %d val %.5f' % (best_epoch['epoch'], best_epoch['valid_loss']))\n",
        "                break\n",
        "\n",
        "            prev_loss = min(prev_loss, valid_loss)\n",
        "    return history, all_train_losses, all_valid_losses"
      ],
      "execution_count": 0,
      "outputs": []
    },
    {
      "cell_type": "code",
      "metadata": {
        "id": "kUhvG9h7Weh1",
        "colab_type": "code",
        "outputId": "b5be41f7-65a0-4301-8649-cdc5c10b7581",
        "colab": {
          "base_uri": "https://localhost:8080/",
          "height": 347,
          "referenced_widgets": [
            "2a5109fe59d2437dadc3c7ae80326103",
            "4296ad03e75a4455acf758613c717df2",
            "14c20bf370a4453bb31535eca9b3ea9f",
            "9ee27f59f8a54d588fbb21f790172136",
            "8203d5b29aa54de7981c332d70c31ff9",
            "ad1a81ca3c3f4a719ed5732394a3c220",
            "72257da098dc4481b567f0c85009dcec",
            "bb495531e5da4007b78097c110ea8ae0",
            "647b568414cb4961a49a5b83c00eb45a",
            "d417a561376f49e7a89e83b369b0fe2e",
            "0289f973a43c440eb8b0ccd983cb407e",
            "fa73af98b281472a86718dd1df31f46a",
            "32427fee9a144072a3e714fa2f9ed4b8",
            "1b2e56be9e2b43bba243d213797961d3",
            "53ec1843dd50424cb61d1fe3e268822f",
            "322d9befae694924a657df8cb9672815",
            "8d4aeea55c06402d8d8980d6e0b3e413",
            "c9270ed6d33c4396b8cf7c193d10a231",
            "26aae85fdb3f43f78fe0924bcec79660",
            "e571c5f1df06421397b07f1a4a0a6089",
            "987c9c2ebe654c419484ae3faf97c13d",
            "622dd0158c57479284e5845d8d0ff9e2",
            "4a90cfc57b3c40d3ba3d3a46ed6f3367",
            "8a2896ce67b04aa6acd010a2bfaab9ff",
            "b23ceec1a2eb41cb9c7dcf97cdc142f0",
            "8905e680b05643b9bfd79ec6f8938a8f",
            "3faacb82285741b1b622cbb1f1153bc8",
            "42df5449fc7a42899ca5febf3df7b3a4",
            "9844234a936d4f22a01586c10c5cc09a",
            "fbded079c9dd482483a2678fbdcb55c4",
            "5ca36991fe2c4382bf0e423e9721ee35",
            "e412095b42334d4a8405f45c9e49bfaf",
            "97928da49acd42a29b3b0dc11656de63",
            "1c90e430f4ab448281e018910a62778f",
            "4315aae60eac49c5a7fe1887a4d6b6b8",
            "4d8271ab3b79428b92c8b221d95ae3c3",
            "283ddaa0400c4ab08c2359eeb5c31d55",
            "030a427f17084249b02817ceb2adb027",
            "aa74b1cf09f74ca9889929a0db4fd58e",
            "277e539518f8447ba8a4093c060f6941"
          ]
        }
      },
      "source": [
        "history_df, res_train_losses, res_valid_losses = nn_train(model, train_iter, valid_iter, criterion, optimizer, scheduler=scheduler, \n",
        "        n_epochs=5, early_stopping=2)"
      ],
      "execution_count": 0,
      "outputs": [
        {
          "output_type": "display_data",
          "data": {
            "application/vnd.jupyter.widget-view+json": {
              "model_id": "2a5109fe59d2437dadc3c7ae80326103",
              "version_minor": 0,
              "version_major": 2
            },
            "text/plain": [
              "HBox(children=(IntProgress(value=0, description='epoch 0', max=1338, style=ProgressStyle(description_width='in…"
            ]
          },
          "metadata": {
            "tags": []
          }
        },
        {
          "output_type": "stream",
          "text": [
            "\n",
            "validation loss 2.95634\n"
          ],
          "name": "stdout"
        },
        {
          "output_type": "display_data",
          "data": {
            "application/vnd.jupyter.widget-view+json": {
              "model_id": "647b568414cb4961a49a5b83c00eb45a",
              "version_minor": 0,
              "version_major": 2
            },
            "text/plain": [
              "HBox(children=(IntProgress(value=0, description='epoch 1', max=1338, style=ProgressStyle(description_width='in…"
            ]
          },
          "metadata": {
            "tags": []
          }
        },
        {
          "output_type": "stream",
          "text": [
            "\n",
            "validation loss 1.46442\n"
          ],
          "name": "stdout"
        },
        {
          "output_type": "display_data",
          "data": {
            "application/vnd.jupyter.widget-view+json": {
              "model_id": "8d4aeea55c06402d8d8980d6e0b3e413",
              "version_minor": 0,
              "version_major": 2
            },
            "text/plain": [
              "HBox(children=(IntProgress(value=0, description='epoch 2', max=1338, style=ProgressStyle(description_width='in…"
            ]
          },
          "metadata": {
            "tags": []
          }
        },
        {
          "output_type": "stream",
          "text": [
            "\n",
            "validation loss 0.77555\n"
          ],
          "name": "stdout"
        },
        {
          "output_type": "display_data",
          "data": {
            "application/vnd.jupyter.widget-view+json": {
              "model_id": "b23ceec1a2eb41cb9c7dcf97cdc142f0",
              "version_minor": 0,
              "version_major": 2
            },
            "text/plain": [
              "HBox(children=(IntProgress(value=0, description='epoch 3', max=1338, style=ProgressStyle(description_width='in…"
            ]
          },
          "metadata": {
            "tags": []
          }
        },
        {
          "output_type": "stream",
          "text": [
            "\n",
            "validation loss 0.47582\n"
          ],
          "name": "stdout"
        },
        {
          "output_type": "display_data",
          "data": {
            "application/vnd.jupyter.widget-view+json": {
              "model_id": "97928da49acd42a29b3b0dc11656de63",
              "version_minor": 0,
              "version_major": 2
            },
            "text/plain": [
              "HBox(children=(IntProgress(value=0, description='epoch 4', max=1338, style=ProgressStyle(description_width='in…"
            ]
          },
          "metadata": {
            "tags": []
          }
        },
        {
          "output_type": "stream",
          "text": [
            "\n",
            "validation loss 0.34112\n"
          ],
          "name": "stdout"
        }
      ]
    },
    {
      "cell_type": "code",
      "metadata": {
        "id": "YLALHxqI94of",
        "colab_type": "code",
        "outputId": "659d469b-718f-4409-eacc-0f751e53a6e0",
        "colab": {
          "base_uri": "https://localhost:8080/",
          "height": 88
        }
      },
      "source": [
        "from sklearn.externals import joblib\n",
        "joblib.dump(model, \"rnn_model.pkl\")"
      ],
      "execution_count": 0,
      "outputs": [
        {
          "output_type": "stream",
          "text": [
            "/usr/local/lib/python3.6/dist-packages/sklearn/externals/joblib/__init__.py:15: FutureWarning: sklearn.externals.joblib is deprecated in 0.21 and will be removed in 0.23. Please import this functionality directly from joblib, which can be installed with: pip install joblib. If this warning is raised when loading pickled models, you may need to re-serialize those models with scikit-learn 0.21+.\n",
            "  warnings.warn(msg, category=FutureWarning)\n"
          ],
          "name": "stderr"
        },
        {
          "output_type": "execute_result",
          "data": {
            "text/plain": [
              "['rnn_model.pkl']"
            ]
          },
          "metadata": {
            "tags": []
          },
          "execution_count": 26
        }
      ]
    },
    {
      "cell_type": "code",
      "metadata": {
        "id": "jLo00x-dbGL_",
        "colab_type": "code",
        "colab": {}
      },
      "source": [
        "my_model = joblib.load(\"rnn_model.pkl\")"
      ],
      "execution_count": 0,
      "outputs": []
    },
    {
      "cell_type": "markdown",
      "metadata": {
        "id": "3p5UD8vQi2Wr",
        "colab_type": "text"
      },
      "source": [
        "# Plot"
      ]
    },
    {
      "cell_type": "code",
      "metadata": {
        "id": "MaZo5Cu9fLVl",
        "colab_type": "code",
        "outputId": "c89ae2a4-dc81-4dc2-8011-7c0d71dfea98",
        "colab": {
          "base_uri": "https://localhost:8080/",
          "height": 204
        }
      },
      "source": [
        "history_df"
      ],
      "execution_count": 0,
      "outputs": [
        {
          "output_type": "execute_result",
          "data": {
            "text/html": [
              "<div>\n",
              "<style scoped>\n",
              "    .dataframe tbody tr th:only-of-type {\n",
              "        vertical-align: middle;\n",
              "    }\n",
              "\n",
              "    .dataframe tbody tr th {\n",
              "        vertical-align: top;\n",
              "    }\n",
              "\n",
              "    .dataframe thead th {\n",
              "        text-align: right;\n",
              "    }\n",
              "</style>\n",
              "<table border=\"1\" class=\"dataframe\">\n",
              "  <thead>\n",
              "    <tr style=\"text-align: right;\">\n",
              "      <th></th>\n",
              "      <th>epoch</th>\n",
              "      <th>train_loss</th>\n",
              "      <th>valid_loss</th>\n",
              "    </tr>\n",
              "  </thead>\n",
              "  <tbody>\n",
              "    <tr>\n",
              "      <th>0</th>\n",
              "      <td>0.0</td>\n",
              "      <td>4.669927</td>\n",
              "      <td>2.956338</td>\n",
              "    </tr>\n",
              "    <tr>\n",
              "      <th>1</th>\n",
              "      <td>1.0</td>\n",
              "      <td>2.174097</td>\n",
              "      <td>1.464417</td>\n",
              "    </tr>\n",
              "    <tr>\n",
              "      <th>2</th>\n",
              "      <td>2.0</td>\n",
              "      <td>1.035408</td>\n",
              "      <td>0.775554</td>\n",
              "    </tr>\n",
              "    <tr>\n",
              "      <th>3</th>\n",
              "      <td>3.0</td>\n",
              "      <td>0.548122</td>\n",
              "      <td>0.475815</td>\n",
              "    </tr>\n",
              "    <tr>\n",
              "      <th>4</th>\n",
              "      <td>4.0</td>\n",
              "      <td>0.345170</td>\n",
              "      <td>0.341115</td>\n",
              "    </tr>\n",
              "  </tbody>\n",
              "</table>\n",
              "</div>"
            ],
            "text/plain": [
              "   epoch  train_loss  valid_loss\n",
              "0    0.0    4.669927    2.956338\n",
              "1    1.0    2.174097    1.464417\n",
              "2    2.0    1.035408    0.775554\n",
              "3    3.0    0.548122    0.475815\n",
              "4    4.0    0.345170    0.341115"
            ]
          },
          "metadata": {
            "tags": []
          },
          "execution_count": 32
        }
      ]
    },
    {
      "cell_type": "code",
      "metadata": {
        "id": "VCGUfyIUDDLN",
        "colab_type": "code",
        "colab": {}
      },
      "source": [
        "import matplotlib.pyplot as plt"
      ],
      "execution_count": 0,
      "outputs": []
    },
    {
      "cell_type": "code",
      "metadata": {
        "id": "PuB7C0wAhET2",
        "colab_type": "code",
        "colab": {}
      },
      "source": [
        "fin_train_losses = []\n",
        "for i in res_train_losses:\n",
        "  for j in i:\n",
        "    fin_train_losses.append(j)"
      ],
      "execution_count": 0,
      "outputs": []
    },
    {
      "cell_type": "code",
      "metadata": {
        "id": "m7hmiMkLhcUd",
        "colab_type": "code",
        "colab": {}
      },
      "source": [
        "fin_valid_losses = []\n",
        "for i in res_valid_losses:\n",
        "  for j in i:\n",
        "    fin_valid_losses.append(j)"
      ],
      "execution_count": 0,
      "outputs": []
    },
    {
      "cell_type": "code",
      "metadata": {
        "id": "1NZNaOQQ7Qtq",
        "colab_type": "code",
        "outputId": "69a90309-6a9b-45a0-ed59-ea2f9c554763",
        "colab": {
          "base_uri": "https://localhost:8080/",
          "height": 460
        }
      },
      "source": [
        "plt.figure(figsize=(10, 7))\n",
        "plt.plot(range(len(fin_train_losses)), fin_train_losses, np.array(range(len(fin_valid_losses)))*10, fin_valid_losses)\n",
        "\n",
        "plt.title('Training process', fontsize=15)\n",
        "plt.legend(('train loss', 'valid loss by batch'))\n",
        "plt.xlabel('Iterations', fontsize=10)\n",
        "plt.ylabel('Loss function', fontsize=10)\n",
        "\n",
        "plt.show()"
      ],
      "execution_count": 0,
      "outputs": [
        {
          "output_type": "display_data",
          "data": {
            "image/png": "[encoded data removed]",
            "text/plain": [
              "<Figure size 720x504 with 1 Axes>"
            ]
          },
          "metadata": {
            "tags": []
          }
        }
      ]
    },
    {
      "cell_type": "markdown",
      "metadata": {
        "id": "aARmKKAwi6w6",
        "colab_type": "text"
      },
      "source": [
        "# Prediction"
      ]
    },
    {
      "cell_type": "code",
      "metadata": {
        "id": "ZPkajwzSE6EE",
        "colab_type": "code",
        "outputId": "cb15d2a7-3c76-4bf1-f277-7dcd8df18713",
        "colab": {
          "base_uri": "https://localhost:8080/",
          "height": 51
        }
      },
      "source": [
        "def num2text(sequence):\n",
        "  text = [TEXT.vocab.itos[v] for v in sequence]\n",
        "  return text\n",
        "\n",
        "print(batch.text[:10, 1])\n",
        "print(num2text(batch.text[:10, 1]))"
      ],
      "execution_count": 0,
      "outputs": [
        {
          "output_type": "stream",
          "text": [
            "tensor([   2, 3897,   31,   14,   93,  804,  129, 6604,  532,  120])\n",
            "['▁the', '▁myth', 's', '▁was', '▁more', '▁important', '▁than', '▁elaborate', '▁story', 't']\n"
          ],
          "name": "stdout"
        }
      ]
    },
    {
      "cell_type": "code",
      "metadata": {
        "id": "4FvYPOuTjp1Q",
        "colab_type": "code",
        "colab": {}
      },
      "source": [
        "def join_text(text_list): \n",
        "  s = num2text(text_list)\n",
        "  return ''.join(s).replace('▁', ' ').strip()"
      ],
      "execution_count": 0,
      "outputs": []
    },
    {
      "cell_type": "code",
      "metadata": {
        "id": "Au6gybD7kMlM",
        "colab_type": "code",
        "outputId": "9027c2a5-0321-4423-84c1-49dff434d63e",
        "colab": {
          "base_uri": "https://localhost:8080/",
          "height": 34
        }
      },
      "source": [
        "join_text(batch.text[:10, 1])"
      ],
      "execution_count": 0,
      "outputs": [
        {
          "output_type": "execute_result",
          "data": {
            "text/plain": [
              "'the myths was more important than elaborate storyt'"
            ]
          },
          "metadata": {
            "tags": []
          },
          "execution_count": 57
        }
      ]
    },
    {
      "cell_type": "code",
      "metadata": {
        "id": "T_YRXXIpksfP",
        "colab_type": "code",
        "colab": {}
      },
      "source": [
        "def generate(model, func, start, max_len=30, eos='<eos>'):\n",
        "  token = start\n",
        "  with tt.no_grad():\n",
        "      seq = [token]\n",
        "      i = 0\n",
        "      while i < max_len and token != TEXT.vocab.stoi[eos]:\n",
        "        i += 1\n",
        "        pred = model(tt.tensor([seq]))[:,:,-1]\n",
        "        token = func(pred)\n",
        "        seq.append(token)\n",
        "\n",
        "  return join_text(seq)"
      ],
      "execution_count": 0,
      "outputs": []
    },
    {
      "cell_type": "markdown",
      "metadata": {
        "id": "phJ28KeA1nr1",
        "colab_type": "text"
      },
      "source": [
        "# Argmax"
      ]
    },
    {
      "cell_type": "code",
      "metadata": {
        "id": "Ur9Tw4GImuP_",
        "colab_type": "code",
        "colab": {}
      },
      "source": [
        "def argmax(pred):\n",
        "  return tt.argmax(pred).item()"
      ],
      "execution_count": 0,
      "outputs": []
    },
    {
      "cell_type": "code",
      "metadata": {
        "id": "_5SrUAXqnVa3",
        "colab_type": "code",
        "colab": {}
      },
      "source": [
        "seed = TEXT.vocab.stoi['myths']"
      ],
      "execution_count": 0,
      "outputs": []
    },
    {
      "cell_type": "code",
      "metadata": {
        "id": "9b6-cjFEmnyH",
        "colab_type": "code",
        "outputId": "78245a3e-646d-440b-af32-e0f2d45ce70e",
        "colab": {
          "base_uri": "https://localhost:8080/",
          "height": 34
        }
      },
      "source": [
        "print(generate(my_model, argmax, start=seed))"
      ],
      "execution_count": 0,
      "outputs": [
        {
          "output_type": "stream",
          "text": [
            "<unk> , and the <unk> of the <unk> , and the <unk> of the <unk> , and the <unk> of the <unk> , and the\n"
          ],
          "name": "stdout"
        }
      ]
    },
    {
      "cell_type": "markdown",
      "metadata": {
        "id": "dnDTO7Q71WG4",
        "colab_type": "text"
      },
      "source": [
        "# Top-K Sampling"
      ]
    },
    {
      "cell_type": "code",
      "metadata": {
        "id": "Y8WtcboqrV1C",
        "colab_type": "code",
        "colab": {}
      },
      "source": [
        "import torch\n",
        "\n",
        "def top_k(pred, top_k=2):\n",
        "\n",
        "    min_val = torch.topk(pred, top_k)[0][..., -1, None]\n",
        "    extra_ids = pred < min_val\n",
        "    pred[extra_ids] = -float(\"Inf\")\n",
        "\n",
        "    return torch.multinomial(torch.exp(pred), 1)"
      ],
      "execution_count": 0,
      "outputs": []
    },
    {
      "cell_type": "code",
      "metadata": {
        "id": "yqlz_RbxKV7-",
        "colab_type": "code",
        "outputId": "37a6c86d-356a-44bc-c940-093b99603bb3",
        "colab": {
          "base_uri": "https://localhost:8080/",
          "height": 34
        }
      },
      "source": [
        "generate(my_model, top_k, start=seed)"
      ],
      "execution_count": 0,
      "outputs": [
        {
          "output_type": "execute_result",
          "data": {
            "text/plain": [
              "'<unk> , and the <unk> of the <unk> , and <unk> , and <unk> , and <unk> , and the song was the first time ,'"
            ]
          },
          "metadata": {
            "tags": []
          },
          "execution_count": 214
        }
      ]
    },
    {
      "cell_type": "markdown",
      "metadata": {
        "id": "3Wh3X5vk1cuF",
        "colab_type": "text"
      },
      "source": [
        "В сравнении в аргмаксом результат стал чуть лучше"
      ]
    },
    {
      "cell_type": "markdown",
      "metadata": {
        "id": "v_hFIV5yJuah",
        "colab_type": "text"
      },
      "source": [
        "# With temperature"
      ]
    },
    {
      "cell_type": "code",
      "metadata": {
        "id": "wPXyeMwvMn2Z",
        "colab_type": "code",
        "colab": {}
      },
      "source": [
        "def tau_2(probs, tau=1):\n",
        "\n",
        "  probs = probs.detach()\n",
        "  dop = probs/tau\n",
        "  res = tt.exp(dop)/tt.sum(tt.exp(dop))\n",
        "  res = res.squeeze()\n",
        "  res = res.numpy()/np.sum(res.numpy())\n",
        "  result = np.random.choice(len(res), 1, p=res)[0]\n",
        "  \n",
        "  return result"
      ],
      "execution_count": 0,
      "outputs": []
    },
    {
      "cell_type": "code",
      "metadata": {
        "id": "_Fz2dq2EMxbU",
        "colab_type": "code",
        "outputId": "ae78c94d-6f10-477b-a01b-edc929adfce4",
        "colab": {
          "base_uri": "https://localhost:8080/",
          "height": 34
        }
      },
      "source": [
        "generate(model, tau_2, seed)"
      ],
      "execution_count": 0,
      "outputs": [
        {
          "output_type": "execute_result",
          "data": {
            "text/plain": [
              "'<unk> \" dominature by the jin oxygen of four hits university that developed on in relatively charge shot late days and kick studioockay ross ( 1<eos>'"
            ]
          },
          "metadata": {
            "tags": []
          },
          "execution_count": 228
        }
      ]
    },
    {
      "cell_type": "code",
      "metadata": {
        "id": "QJ9FUJnTM_7h",
        "colab_type": "code",
        "outputId": "23619446-a2fe-4b9f-c7d0-638c09be71fd",
        "colab": {
          "base_uri": "https://localhost:8080/",
          "height": 54
        }
      },
      "source": [
        "generate(model, tau_2, seed)"
      ],
      "execution_count": 0,
      "outputs": [
        {
          "output_type": "execute_result",
          "data": {
            "text/plain": [
              "'<unk> , weafizes over specific other city were intelligence disbandon was dedicated in 1959 us north weeks he was obtained were commanded in chains in the colonies ,'"
            ]
          },
          "metadata": {
            "tags": []
          },
          "execution_count": 233
        }
      ]
    },
    {
      "cell_type": "markdown",
      "metadata": {
        "id": "ZQbHnSjY8gvi",
        "colab_type": "text"
      },
      "source": [
        "С температурой результат получился еще более интересным"
      ]
    },
    {
      "cell_type": "markdown",
      "metadata": {
        "id": "mMOLBtLkJnNN",
        "colab_type": "text"
      },
      "source": [
        "# Nucleus"
      ]
    },
    {
      "cell_type": "code",
      "metadata": {
        "id": "Ej4BX3ZBHWgr",
        "colab_type": "code",
        "colab": {}
      },
      "source": [
        "def tau_dop(probs, tau = 1):\n",
        "  probs = probs.detach()\n",
        "  dop = probs/tau\n",
        "  res = tt.exp(dop)/tt.sum(tt.exp(dop))\n",
        "  res = res.squeeze()\n",
        "  if np.sum(res.numpy()) == 1:\n",
        "    res = res.numpy()\n",
        "  else:\n",
        "    res = res.numpy()/np.sum(res.numpy())\n",
        "    \n",
        "  return res"
      ],
      "execution_count": 0,
      "outputs": []
    },
    {
      "cell_type": "code",
      "metadata": {
        "id": "cKh4kzQfnBGq",
        "colab_type": "code",
        "colab": {}
      },
      "source": [
        "def nucleus(probs, p = 0.5):\n",
        "  cumul = 0\n",
        "  num = 0\n",
        "\n",
        "  probs = probs.detach().squeeze()\n",
        "  new_probs =  tt.tensor(tau_dop(probs))\n",
        "  sorted_probs = tt.argsort(new_probs, descending=True)\n",
        "\n",
        "  while cumul < p:\n",
        "    prob_id = sorted_probs[num]\n",
        "    cumul += new_probs[prob_id]\n",
        "    num += 1\n",
        "\n",
        "  top_ids = sorted_probs[:num]\n",
        "  top_probs = new_probs[top_ids]\n",
        "  result = np.random.choice(top_ids.numpy(), 1, p=tau_dop(top_probs))[0]\n",
        "\n",
        "  return result"
      ],
      "execution_count": 0,
      "outputs": []
    },
    {
      "cell_type": "code",
      "metadata": {
        "id": "GpWsQGnsrMQG",
        "colab_type": "code",
        "outputId": "9acd4c8d-0df6-453e-b292-ff28311feabf",
        "colab": {
          "base_uri": "https://localhost:8080/",
          "height": 34
        }
      },
      "source": [
        "gen_t_nucl = generate(my_model, nucleus, seed)\n",
        "\n",
        "print(gen_t_nucl)"
      ],
      "execution_count": 0,
      "outputs": [
        {
          "output_type": "stream",
          "text": [
            "<unk> of a troalog in 2010 . the watershed as the whole panoners of frelimo the latter 's player 's song were left off and six\n"
          ],
          "name": "stdout"
        }
      ]
    },
    {
      "cell_type": "code",
      "metadata": {
        "id": "MbK2h9t-7VBE",
        "colab_type": "code",
        "outputId": "5984bd17-700a-4b4f-9fed-27ac50f1eccf",
        "colab": {
          "base_uri": "https://localhost:8080/",
          "height": 34
        }
      },
      "source": [
        "generate(my_model, nucleus, seed)"
      ],
      "execution_count": 0,
      "outputs": [
        {
          "output_type": "execute_result",
          "data": {
            "text/plain": [
              "'<unk> . the result , they often with his longable were replaced the on some wartilian propas , including it \" is from her mother'"
            ]
          },
          "metadata": {
            "tags": []
          },
          "execution_count": 209
        }
      ]
    },
    {
      "cell_type": "code",
      "metadata": {
        "id": "PB-a6_O3SI96",
        "colab_type": "code",
        "colab": {
          "base_uri": "https://localhost:8080/",
          "height": 34
        },
        "outputId": "76d0de64-fac9-41e3-ea2b-00ce78c9746a"
      },
      "source": [
        "generate(my_model, nucleus, seed)"
      ],
      "execution_count": 244,
      "outputs": [
        {
          "output_type": "execute_result",
          "data": {
            "text/plain": [
              "'<unk> , the three companies was designated as the turks was being completed on may from 1640 ( an north – 0 in the netherlands , with aided range'"
            ]
          },
          "metadata": {
            "tags": []
          },
          "execution_count": 244
        }
      ]
    },
    {
      "cell_type": "markdown",
      "metadata": {
        "id": "bcInc8B5IdeM",
        "colab_type": "text"
      },
      "source": [
        "Тут уже попадается чуть меньше ненужных символов"
      ]
    },
    {
      "cell_type": "markdown",
      "metadata": {
        "id": "04w2HEMNRBRd",
        "colab_type": "text"
      },
      "source": [
        "Думаю, было бы лучше еще обучить модель на большем количестве эпох и с более качественной преобработкой."
      ]
    },
    {
      "cell_type": "code",
      "metadata": {
        "id": "MdRgWszvJXvY",
        "colab_type": "code",
        "colab": {}
      },
      "source": [
        ""
      ],
      "execution_count": 0,
      "outputs": []
    }
  ]
}